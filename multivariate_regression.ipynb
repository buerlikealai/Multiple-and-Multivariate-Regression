<!DOCTYPE html>
<!-- saved from url=(0103)https://icaml.org/canon/algo/multivariate-regression/Multiple_Regression_Python/MultipleRegression.html -->
<html lang="de-DE"><!--<![endif]--><head><meta http-equiv="Content-Type" content="text/html; charset=UTF-8">

<meta name="viewport" content="width=device-width">
<title>Interdisciplinary Center for Applied Machine Learning</title>
<!--[if lt IE 9]><!--[if IE 7]>
<html class="ie ie7" lang="de-DE">
<![endif]-->
<!--[endif]---->
<!--[if IE 8]>
<html class="ie ie8" lang="de-DE">
<![endif]-->
<!--[if !(IE 7) & !(IE 8)]><!-->

<!--<![endif]-->


<link rel="stylesheet" id="twentytwelve-fonts-css" href="./Interdisciplinary Center for Applied Machine Learning_files/css" type="text/css" media="all">
<link rel="stylesheet" id="twentytwelve-style-css" href="./Interdisciplinary Center for Applied Machine Learning_files/style.css" type="text/css" media="all">
<!--[if lt IE 9]>
<link rel='stylesheet' id='twentytwelve-ie-css'  href='//icaml.org/css/ie.css' type='text/css' media='all' />
<![endif]-->
<script type="text/javascript" src="./Interdisciplinary Center for Applied Machine Learning_files/jquery.js.download"></script>
<script type="text/javascript" src="./Interdisciplinary Center for Applied Machine Learning_files/jquery-migrate.min.js.download"></script>
<script type="text/javascript" src="./Interdisciplinary Center for Applied Machine Learning_files/papercite.js.download"></script>

<link rel="stylesheet" href="./Interdisciplinary Center for Applied Machine Learning_files/default.min.css">
<script src="./Interdisciplinary Center for Applied Machine Learning_files/highlight.min.js.download"></script>

<!-- deprecated. <script src="https://cdn.rawgit.com/google/code-prettify/master/loader/run_prettify.js"></script> -->

<meta name="generator" content="Manual Editing after WordPress 4.4.2">
	<style type="text/css" id="twentytwelve-header-css">
			.site-header h1 a,
			.site-header h2 {
			color: #000000;
		}
		</style>
	<script language="JavaScript">
function initialize()
{
/*	var items = document.getElementsByTagName("pre");
	for (var i = items.length; i--;) {
		items[i].className += ' prettyprint';
}*/

jQuery('.language-python').each(function(i, block) {
    hljs.highlightBlock(block);
  });


}
  function resizeIframe(iframe) {
    iframe.height = iframe.contentWindow.document.body.scrollHeight + "px";
  }


</script><style>


</style><style type="text/css">.MathJax_Hover_Frame {border-radius: .25em; -webkit-border-radius: .25em; -moz-border-radius: .25em; -khtml-border-radius: .25em; box-shadow: 0px 0px 15px #83A; -webkit-box-shadow: 0px 0px 15px #83A; -moz-box-shadow: 0px 0px 15px #83A; -khtml-box-shadow: 0px 0px 15px #83A; border: 1px solid #A6D ! important; display: inline-block; position: absolute}
.MathJax_Menu_Button .MathJax_Hover_Arrow {position: absolute; cursor: pointer; display: inline-block; border: 2px solid #AAA; border-radius: 4px; -webkit-border-radius: 4px; -moz-border-radius: 4px; -khtml-border-radius: 4px; font-family: 'Courier New',Courier; font-size: 9px; color: #F0F0F0}
.MathJax_Menu_Button .MathJax_Hover_Arrow span {display: block; background-color: #AAA; border: 1px solid; border-radius: 3px; line-height: 0; padding: 4px}
.MathJax_Hover_Arrow:hover {color: white!important; border: 2px solid #CCC!important}
.MathJax_Hover_Arrow:hover span {background-color: #CCC!important}
</style><style type="text/css">#MathJax_About {position: fixed; left: 50%; width: auto; text-align: center; border: 3px outset; padding: 1em 2em; background-color: #DDDDDD; color: black; cursor: default; font-family: message-box; font-size: 120%; font-style: normal; text-indent: 0; text-transform: none; line-height: normal; letter-spacing: normal; word-spacing: normal; word-wrap: normal; white-space: nowrap; float: none; z-index: 201; border-radius: 15px; -webkit-border-radius: 15px; -moz-border-radius: 15px; -khtml-border-radius: 15px; box-shadow: 0px 10px 20px #808080; -webkit-box-shadow: 0px 10px 20px #808080; -moz-box-shadow: 0px 10px 20px #808080; -khtml-box-shadow: 0px 10px 20px #808080; filter: progid:DXImageTransform.Microsoft.dropshadow(OffX=2, OffY=2, Color='gray', Positive='true')}
#MathJax_About.MathJax_MousePost {outline: none}
.MathJax_Menu {position: absolute; background-color: white; color: black; width: auto; padding: 2px; border: 1px solid #CCCCCC; margin: 0; cursor: default; font: menu; text-align: left; text-indent: 0; text-transform: none; line-height: normal; letter-spacing: normal; word-spacing: normal; word-wrap: normal; white-space: nowrap; float: none; z-index: 201; box-shadow: 0px 10px 20px #808080; -webkit-box-shadow: 0px 10px 20px #808080; -moz-box-shadow: 0px 10px 20px #808080; -khtml-box-shadow: 0px 10px 20px #808080; filter: progid:DXImageTransform.Microsoft.dropshadow(OffX=2, OffY=2, Color='gray', Positive='true')}
.MathJax_MenuItem {padding: 2px 2em; background: transparent}
.MathJax_MenuArrow {position: absolute; right: .5em; padding-top: .25em; color: #666666; font-size: .75em}
.MathJax_MenuActive .MathJax_MenuArrow {color: white}
.MathJax_MenuArrow.RTL {left: .5em; right: auto}
.MathJax_MenuCheck {position: absolute; left: .7em}
.MathJax_MenuCheck.RTL {right: .7em; left: auto}
.MathJax_MenuRadioCheck {position: absolute; left: 1em}
.MathJax_MenuRadioCheck.RTL {right: 1em; left: auto}
.MathJax_MenuLabel {padding: 2px 2em 4px 1.33em; font-style: italic}
.MathJax_MenuRule {border-top: 1px solid #CCCCCC; margin: 4px 1px 0px}
.MathJax_MenuDisabled {color: GrayText}
.MathJax_MenuActive {background-color: Highlight; color: HighlightText}
.MathJax_MenuDisabled:focus, .MathJax_MenuLabel:focus {background-color: #E8E8E8}
.MathJax_ContextMenu:focus {outline: none}
.MathJax_ContextMenu .MathJax_MenuItem:focus {outline: none}
#MathJax_AboutClose {top: .2em; right: .2em}
.MathJax_Menu .MathJax_MenuClose {top: -10px; left: -10px}
.MathJax_MenuClose {position: absolute; cursor: pointer; display: inline-block; border: 2px solid #AAA; border-radius: 18px; -webkit-border-radius: 18px; -moz-border-radius: 18px; -khtml-border-radius: 18px; font-family: 'Courier New',Courier; font-size: 24px; color: #F0F0F0}
.MathJax_MenuClose span {display: block; background-color: #AAA; border: 1.5px solid; border-radius: 18px; -webkit-border-radius: 18px; -moz-border-radius: 18px; -khtml-border-radius: 18px; line-height: 0; padding: 8px 0 6px}
.MathJax_MenuClose:hover {color: white!important; border: 2px solid #CCC!important}
.MathJax_MenuClose:hover span {background-color: #CCC!important}
.MathJax_MenuClose:hover:focus {outline: none}
</style><style type="text/css">.MathJax_Preview .MJXf-math {color: inherit!important}
</style><style type="text/css">.MJX_Assistive_MathML {position: absolute!important; top: 0; left: 0; clip: rect(1px, 1px, 1px, 1px); padding: 1px 0 0 0!important; border: 0!important; height: 1px!important; width: 1px!important; overflow: hidden!important; display: block!important; -webkit-touch-callout: none; -webkit-user-select: none; -khtml-user-select: none; -moz-user-select: none; -ms-user-select: none; user-select: none}
.MJX_Assistive_MathML.MJX_Assistive_MathML_Block {width: 100%!important}
</style><style type="text/css">#MathJax_Zoom {position: absolute; background-color: #F0F0F0; overflow: auto; display: block; z-index: 301; padding: .5em; border: 1px solid black; margin: 0; font-weight: normal; font-style: normal; text-align: left; text-indent: 0; text-transform: none; line-height: normal; letter-spacing: normal; word-spacing: normal; word-wrap: normal; white-space: nowrap; float: none; -webkit-box-sizing: content-box; -moz-box-sizing: content-box; box-sizing: content-box; box-shadow: 5px 5px 15px #AAAAAA; -webkit-box-shadow: 5px 5px 15px #AAAAAA; -moz-box-shadow: 5px 5px 15px #AAAAAA; -khtml-box-shadow: 5px 5px 15px #AAAAAA; filter: progid:DXImageTransform.Microsoft.dropshadow(OffX=2, OffY=2, Color='gray', Positive='true')}
#MathJax_ZoomOverlay {position: absolute; left: 0; top: 0; z-index: 300; display: inline-block; width: 100%; height: 100%; border: 0; padding: 0; margin: 0; background-color: white; opacity: 0; filter: alpha(opacity=0)}
#MathJax_ZoomFrame {position: relative; display: inline-block; height: 0; width: 0}
#MathJax_ZoomEventTrap {position: absolute; left: 0; top: 0; z-index: 302; display: inline-block; border: 0; padding: 0; margin: 0; background-color: white; opacity: 0; filter: alpha(opacity=0)}
</style><style type="text/css">.MathJax_Preview {color: #888}
#MathJax_Message {position: fixed; left: 1em; bottom: 1.5em; background-color: #E6E6E6; border: 1px solid #959595; margin: 0px; padding: 2px 8px; z-index: 102; color: black; font-size: 80%; width: auto; white-space: nowrap}
#MathJax_MSIE_Frame {position: absolute; top: 0; left: 0; width: 0px; z-index: 101; border: 0px; margin: 0px; padding: 0px}
.MathJax_Error {color: #CC0000; font-style: italic}
</style><style type="text/css">.MJXp-script {font-size: .8em}
.MJXp-right {-webkit-transform-origin: right; -moz-transform-origin: right; -ms-transform-origin: right; -o-transform-origin: right; transform-origin: right}
.MJXp-bold {font-weight: bold}
.MJXp-italic {font-style: italic}
.MJXp-scr {font-family: MathJax_Script,'Times New Roman',Times,STIXGeneral,serif}
.MJXp-frak {font-family: MathJax_Fraktur,'Times New Roman',Times,STIXGeneral,serif}
.MJXp-sf {font-family: MathJax_SansSerif,'Times New Roman',Times,STIXGeneral,serif}
.MJXp-cal {font-family: MathJax_Caligraphic,'Times New Roman',Times,STIXGeneral,serif}
.MJXp-mono {font-family: MathJax_Typewriter,'Times New Roman',Times,STIXGeneral,serif}
.MJXp-largeop {font-size: 150%}
.MJXp-largeop.MJXp-int {vertical-align: -.2em}
.MJXp-math {display: inline-block; line-height: 1.2; text-indent: 0; font-family: 'Times New Roman',Times,STIXGeneral,serif; white-space: nowrap; border-collapse: collapse}
.MJXp-display {display: block; text-align: center; margin: 1em 0}
.MJXp-math span {display: inline-block}
.MJXp-box {display: block!important; text-align: center}
.MJXp-box:after {content: " "}
.MJXp-rule {display: block!important; margin-top: .1em}
.MJXp-char {display: block!important}
.MJXp-mo {margin: 0 .15em}
.MJXp-mfrac {margin: 0 .125em; vertical-align: .25em}
.MJXp-denom {display: inline-table!important; width: 100%}
.MJXp-denom > * {display: table-row!important}
.MJXp-surd {vertical-align: top}
.MJXp-surd > * {display: block!important}
.MJXp-script-box > *  {display: table!important; height: 50%}
.MJXp-script-box > * > * {display: table-cell!important; vertical-align: top}
.MJXp-script-box > *:last-child > * {vertical-align: bottom}
.MJXp-script-box > * > * > * {display: block!important}
.MJXp-mphantom {visibility: hidden}
.MJXp-munderover {display: inline-table!important}
.MJXp-over {display: inline-block!important; text-align: center}
.MJXp-over > * {display: block!important}
.MJXp-munderover > * {display: table-row!important}
.MJXp-mtable {vertical-align: .25em; margin: 0 .125em}
.MJXp-mtable > * {display: inline-table!important; vertical-align: middle}
.MJXp-mtr {display: table-row!important}
.MJXp-mtd {display: table-cell!important; text-align: center; padding: .5em 0 0 .5em}
.MJXp-mtr > .MJXp-mtd:first-child {padding-left: 0}
.MJXp-mtr:first-child > .MJXp-mtd {padding-top: 0}
.MJXp-mlabeledtr {display: table-row!important}
.MJXp-mlabeledtr > .MJXp-mtd:first-child {padding-left: 0}
.MJXp-mlabeledtr:first-child > .MJXp-mtd {padding-top: 0}
.MJXp-merror {background-color: #FFFF88; color: #CC0000; border: 1px solid #CC0000; padding: 1px 3px; font-style: normal; font-size: 90%}
.MJXp-scale0 {-webkit-transform: scaleX(.0); -moz-transform: scaleX(.0); -ms-transform: scaleX(.0); -o-transform: scaleX(.0); transform: scaleX(.0)}
.MJXp-scale1 {-webkit-transform: scaleX(.1); -moz-transform: scaleX(.1); -ms-transform: scaleX(.1); -o-transform: scaleX(.1); transform: scaleX(.1)}
.MJXp-scale2 {-webkit-transform: scaleX(.2); -moz-transform: scaleX(.2); -ms-transform: scaleX(.2); -o-transform: scaleX(.2); transform: scaleX(.2)}
.MJXp-scale3 {-webkit-transform: scaleX(.3); -moz-transform: scaleX(.3); -ms-transform: scaleX(.3); -o-transform: scaleX(.3); transform: scaleX(.3)}
.MJXp-scale4 {-webkit-transform: scaleX(.4); -moz-transform: scaleX(.4); -ms-transform: scaleX(.4); -o-transform: scaleX(.4); transform: scaleX(.4)}
.MJXp-scale5 {-webkit-transform: scaleX(.5); -moz-transform: scaleX(.5); -ms-transform: scaleX(.5); -o-transform: scaleX(.5); transform: scaleX(.5)}
.MJXp-scale6 {-webkit-transform: scaleX(.6); -moz-transform: scaleX(.6); -ms-transform: scaleX(.6); -o-transform: scaleX(.6); transform: scaleX(.6)}
.MJXp-scale7 {-webkit-transform: scaleX(.7); -moz-transform: scaleX(.7); -ms-transform: scaleX(.7); -o-transform: scaleX(.7); transform: scaleX(.7)}
.MJXp-scale8 {-webkit-transform: scaleX(.8); -moz-transform: scaleX(.8); -ms-transform: scaleX(.8); -o-transform: scaleX(.8); transform: scaleX(.8)}
.MJXp-scale9 {-webkit-transform: scaleX(.9); -moz-transform: scaleX(.9); -ms-transform: scaleX(.9); -o-transform: scaleX(.9); transform: scaleX(.9)}
.MathJax_PHTML .noError {vertical-align: ; font-size: 90%; text-align: left; color: black; padding: 1px 3px; border: 1px solid}
</style><style type="text/css">.MathJax_Display {text-align: center; margin: 1em 0em; position: relative; display: block!important; text-indent: 0; max-width: none; max-height: none; min-width: 0; min-height: 0; width: 100%}
.MathJax .merror {background-color: #FFFF88; color: #CC0000; border: 1px solid #CC0000; padding: 1px 3px; font-style: normal; font-size: 90%}
.MathJax .MJX-monospace {font-family: monospace}
.MathJax .MJX-sans-serif {font-family: sans-serif}
#MathJax_Tooltip {background-color: InfoBackground; color: InfoText; border: 1px solid black; box-shadow: 2px 2px 5px #AAAAAA; -webkit-box-shadow: 2px 2px 5px #AAAAAA; -moz-box-shadow: 2px 2px 5px #AAAAAA; -khtml-box-shadow: 2px 2px 5px #AAAAAA; filter: progid:DXImageTransform.Microsoft.dropshadow(OffX=2, OffY=2, Color='gray', Positive='true'); padding: 3px 4px; z-index: 401; position: absolute; left: 0; top: 0; width: auto; height: auto; display: none}
.MathJax {display: inline; font-style: normal; font-weight: normal; line-height: normal; font-size: 100%; font-size-adjust: none; text-indent: 0; text-align: left; text-transform: none; letter-spacing: normal; word-spacing: normal; word-wrap: normal; white-space: nowrap; float: none; direction: ltr; max-width: none; max-height: none; min-width: 0; min-height: 0; border: 0; padding: 0; margin: 0}
.MathJax:focus, body :focus .MathJax {display: inline-table}
.MathJax.MathJax_FullWidth {text-align: center; display: table-cell!important; width: 10000em!important}
.MathJax img, .MathJax nobr, .MathJax a {border: 0; padding: 0; margin: 0; max-width: none; max-height: none; min-width: 0; min-height: 0; vertical-align: 0; line-height: normal; text-decoration: none}
img.MathJax_strut {border: 0!important; padding: 0!important; margin: 0!important; vertical-align: 0!important}
.MathJax span {display: inline; position: static; border: 0; padding: 0; margin: 0; vertical-align: 0; line-height: normal; text-decoration: none}
.MathJax nobr {white-space: nowrap!important}
.MathJax img {display: inline!important; float: none!important}
.MathJax * {transition: none; -webkit-transition: none; -moz-transition: none; -ms-transition: none; -o-transition: none}
.MathJax_Processing {visibility: hidden; position: fixed; width: 0; height: 0; overflow: hidden}
.MathJax_Processed {display: none!important}
.MathJax_ExBox {display: block!important; overflow: hidden; width: 1px; height: 60ex; min-height: 0; max-height: none}
.MathJax .MathJax_EmBox {display: block!important; overflow: hidden; width: 1px; height: 60em; min-height: 0; max-height: none}
.MathJax_LineBox {display: table!important}
.MathJax_LineBox span {display: table-cell!important; width: 10000em!important; min-width: 0; max-width: none; padding: 0; border: 0; margin: 0}
.MathJax .MathJax_HitBox {cursor: text; background: white; opacity: 0; filter: alpha(opacity=0)}
.MathJax .MathJax_HitBox * {filter: none; opacity: 1; background: transparent}
#MathJax_Tooltip * {filter: none; opacity: 1; background: transparent}
@font-face {font-family: MathJax_Main; src: url('https://cdnjs.cloudflare.com/ajax/libs/mathjax/2.7.1/fonts/HTML-CSS/TeX/woff/MathJax_Main-Regular.woff?V=2.7.1') format('woff'), url('https://cdnjs.cloudflare.com/ajax/libs/mathjax/2.7.1/fonts/HTML-CSS/TeX/otf/MathJax_Main-Regular.otf?V=2.7.1') format('opentype')}
@font-face {font-family: MathJax_Main-bold; src: url('https://cdnjs.cloudflare.com/ajax/libs/mathjax/2.7.1/fonts/HTML-CSS/TeX/woff/MathJax_Main-Bold.woff?V=2.7.1') format('woff'), url('https://cdnjs.cloudflare.com/ajax/libs/mathjax/2.7.1/fonts/HTML-CSS/TeX/otf/MathJax_Main-Bold.otf?V=2.7.1') format('opentype')}
@font-face {font-family: MathJax_Main-italic; src: url('https://cdnjs.cloudflare.com/ajax/libs/mathjax/2.7.1/fonts/HTML-CSS/TeX/woff/MathJax_Main-Italic.woff?V=2.7.1') format('woff'), url('https://cdnjs.cloudflare.com/ajax/libs/mathjax/2.7.1/fonts/HTML-CSS/TeX/otf/MathJax_Main-Italic.otf?V=2.7.1') format('opentype')}
@font-face {font-family: MathJax_Math-italic; src: url('https://cdnjs.cloudflare.com/ajax/libs/mathjax/2.7.1/fonts/HTML-CSS/TeX/woff/MathJax_Math-Italic.woff?V=2.7.1') format('woff'), url('https://cdnjs.cloudflare.com/ajax/libs/mathjax/2.7.1/fonts/HTML-CSS/TeX/otf/MathJax_Math-Italic.otf?V=2.7.1') format('opentype')}
@font-face {font-family: MathJax_Caligraphic; src: url('https://cdnjs.cloudflare.com/ajax/libs/mathjax/2.7.1/fonts/HTML-CSS/TeX/woff/MathJax_Caligraphic-Regular.woff?V=2.7.1') format('woff'), url('https://cdnjs.cloudflare.com/ajax/libs/mathjax/2.7.1/fonts/HTML-CSS/TeX/otf/MathJax_Caligraphic-Regular.otf?V=2.7.1') format('opentype')}
@font-face {font-family: MathJax_Size1; src: url('https://cdnjs.cloudflare.com/ajax/libs/mathjax/2.7.1/fonts/HTML-CSS/TeX/woff/MathJax_Size1-Regular.woff?V=2.7.1') format('woff'), url('https://cdnjs.cloudflare.com/ajax/libs/mathjax/2.7.1/fonts/HTML-CSS/TeX/otf/MathJax_Size1-Regular.otf?V=2.7.1') format('opentype')}
@font-face {font-family: MathJax_Size2; src: url('https://cdnjs.cloudflare.com/ajax/libs/mathjax/2.7.1/fonts/HTML-CSS/TeX/woff/MathJax_Size2-Regular.woff?V=2.7.1') format('woff'), url('https://cdnjs.cloudflare.com/ajax/libs/mathjax/2.7.1/fonts/HTML-CSS/TeX/otf/MathJax_Size2-Regular.otf?V=2.7.1') format('opentype')}
@font-face {font-family: MathJax_Size3; src: url('https://cdnjs.cloudflare.com/ajax/libs/mathjax/2.7.1/fonts/HTML-CSS/TeX/woff/MathJax_Size3-Regular.woff?V=2.7.1') format('woff'), url('https://cdnjs.cloudflare.com/ajax/libs/mathjax/2.7.1/fonts/HTML-CSS/TeX/otf/MathJax_Size3-Regular.otf?V=2.7.1') format('opentype')}
@font-face {font-family: MathJax_Size4; src: url('https://cdnjs.cloudflare.com/ajax/libs/mathjax/2.7.1/fonts/HTML-CSS/TeX/woff/MathJax_Size4-Regular.woff?V=2.7.1') format('woff'), url('https://cdnjs.cloudflare.com/ajax/libs/mathjax/2.7.1/fonts/HTML-CSS/TeX/otf/MathJax_Size4-Regular.otf?V=2.7.1') format('opentype')}
.MathJax .noError {vertical-align: ; font-size: 90%; text-align: left; color: black; padding: 1px 3px; border: 1px solid}
</style></head>



<!--
used in <h1 site-title as a local style tag.
background-color: #48a9e4;
background-image: -moz-linear-gradient(top,#0779bf 0%,#48a9e4 100%);
	      <a href="//icaml.org" title="Interdisciplinary Center for Applied Machine Learning" rel="home">
<!--		<img align="absmiddle" src="//icaml.org/gfx/sigspatial_logo_small_120.png">
!-->








<body class="home page page-id-6 page-template-default  full-width  custom-font-enabled single-author" onload="initialize();"><div style="visibility: hidden; overflow: hidden; position: absolute; top: 0px; height: 1px; width: auto; padding: 0px; border: 0px; margin: 0px; text-align: left; text-indent: 0px; text-transform: none; line-height: normal; letter-spacing: normal; word-spacing: normal;"><div id="MathJax_Hidden"></div></div><div id="MathJax_Message" style="display: none;"></div>
<div id="page" class="hfeed site">
  <header id="masthead" class="site-header" role="banner">
    
    <h1 class="site-header" style="width:100%;">
      <div class="title-wrapper">
	<div class="title-text">

	  <img src="./Interdisciplinary Center for Applied Machine Learning_files/icaml_logo.png" class="title-image"><br>
	  	  Interdisciplinary Center for Applied Machine Learning
	</div>
	<div class="space-filler">&nbsp;</div>
       </div>
       
    </h1>

		<nav id="site-navigation" class="main-navigation" role="navigation">
			<button class="menu-toggle">Menu</button>
			<a class="assistive-text" href="https://icaml.org/canon/algo/multivariate-regression/Multiple_Regression_Python/MultipleRegression.html#content" title="Zum Inhalt springen">Zum Inhalt springen</a>
			<div class="menu-menu-1-container">





<ul class="nav-menu">

  
  
  

  
  
  

  
  
  

  
  
  

  
  
  

  
  
  

  
  
  

  
  
  

  
  
  

  
  
  

  
  
  

  
  
  

  
  
  

  
  
  

  
  
  

  
  
  

  
  
  

  
  
  

  
  
  

  
  
  

  
  
  

  
  
  

  
  
  

  
  
  

  
  
  

  
  
  

  
  
  

  
  
  

  
  
  

  
  
  

  
  
  

  
  
  

  
  
  

  
  
  

  
  
  

  
  
  

  
  
  

  
  
  

  
  
  

  
  
  

  
  
  

  
  
  

  
  
  

  
  
  

  
  
  

  
  
  

  
  
  

  
  
  

  
  
  

  
  
  

  
  
  

  
  
  

  
  
  

  
  
  

  
  
  

  
  
  

  
  
  

  
  
  

  
  
  

  
  
  

  
  
  

  
  
  

  
  
  

  
  
  

  
  
  

  
  
  

  
  
  

  
  
  

  
  
  

  
  
  

  
  
  

  
  
  

  
  
  

  
  
  

  
  
  

  
  
  

  
  
  

  
  
  

  
  
  

  
  
  

  
  
  

  
  
  

  
  
  

  
  
  

  
  
  

  
  
  

  
  
  

  
  
  

  
  
  

  
  
  

  
  
  

  
  
  

  
  
  

  
  
  

  
  
  

  
  
  

  
  
  

  
  
  

  
  
  

  
  
  

  
  
  

  
  
  

  
  
   


    <!-- hack: home is active with contains, so if < 2, we need page.url == ... for active !-->
    
<li>
      <a href="https://icaml.org/">
        
          Home 
        
      </a>

      
      
      

      
    </li>
    
    

  
  
   


    <!-- hack: home is active with contains, so if < 2, we need page.url == ... for active !-->
    
<li>
      <a href="https://icaml.org/qualification.html">
        
          Qualification 
        
      </a>

      
      
      

      
    </li>
    
    

  
  
   


    <!-- hack: home is active with contains, so if < 2, we need page.url == ... for active !-->
    
<li>
      <a href="https://icaml.org/computation.html">
        
          Computation 
        
      </a>

      
      
      

      
    </li>
    
    

  
  
   


    <!-- hack: home is active with contains, so if < 2, we need page.url == ... for active !-->
    
<li class="menu-item menu-item-type-post_type menu-item-object-page current-menu-item page_item page-item-6 current_page_item menu-item-359">
      <a href="https://icaml.org/canon/">
        
          Material 
        
      </a>

      
      
      

      
        <ul>
          
            
              
              

              
            
          
            
              
              

              
            
          
            
              
              

              
            
          
            
              
              

              
            
          
            
              
              

              
            
          
            
              
              

              
            
          
            
              
              

              
            
          
            
              
              

              
            
          
            
              
              

              
            
          
            
              
              

              
            
          
            
              
              

              
            
          
            
              
              

              
            
          
            
              
              

              
            
          
            
              
              

              
            
          
            
              
              

              
            
          
            
              
              

              
            
          
            
              
              

              
            
          
            
              
              

              
            
          
            
              
              

              
            
          
            
              
              

              
            
          
            
              
              

              
            
          
            
              
              

              
            
          
            
              
              

              
            
          
            
              
              

              
            
          
            
              
              

              
            
          
            
              
              

              
            
          
            
              
              

              
            
          
            
              
              

              
            
          
            
              
              

              
            
          
            
              
              

              
            
          
            
              
              

              
            
          
            
              
              

              
            
          
            
              
              

              
            
          
            
              
              

              
            
          
            
              
              

              
            
          
            
              
              

              
            
          
            
              
              

              
            
          
            
              
              

              
            
          
            
              
              

              
            
          
            
              
              

              
            
          
            
              
              

              
            
          
            
              
              

              
            
          
            
              
              

              
            
          
            
              
              

              
            
          
            
              
              

              
            
          
            
              
              

              
            
          
            
              
              

              
            
          
            
              
              

              
            
          
            
              
              

              
            
          
            
              
              

              
            
          
            
              
              

              
            
          
            
              
              

              
            
          
            
              
              

              
            
          
            
              
              

              
            
          
            
              
              

              
            
          
            
              
              

              
            
          
            
              
              

              
            
          
            
              
              

              
            
          
            
              
              

              
            
          
            
              
              

              
            
          
            
              
              

              
            
          
            
              
              

              
            
          
            
              
              

              
            
          
            
              
              

              
            
          
            
              
              

              
            
          
            
              
              

              
            
          
            
              
              

              
            
          
            
              
              

              
            
          
            
              
              

              
            
          
            
              
              

              
            
          
            
              
              

              
            
          
            
              
              

              
            
          
            
              
              

              
            
          
            
              
              

              
            
          
            
              
              

              
            
          
            
              
              

              
            
          
            
              
              

              
            
          
            
              
              

              
            
          
            
              
              

              
            
          
            
              
              

              
            
          
            
              
              

              
            
          
            
              
              

              
            
          
            
              
              

              
            
          
            
              
              

              
            
          
            
              
              

              
            
          
            
              
              

              
            
          
            
              
              

              
            
          
            
              
              

              
            
          
            
              
              

              
            
          
            
              
              

              
            
          
            
              
              

              
            
          
            
              
              

              
            
          
            
              
              

              
            
          
            
              
              

              
            
          
            
              
              

              
            
          
            
              
              

              
            
          
            
              
              

              
            
          
            
              
              

              
            
          
            
          
            
              
              

              
            
          
            
              
              

              
            
          
            
              
              

              
            
          
            
          
            
          
            
          
            
          
            
          
            
          
        </ul>
      
    </li>
    
    

  
  
   


    <!-- hack: home is active with contains, so if < 2, we need page.url == ... for active !-->
    
<li>
      <a href="https://icaml.org/events.html">
        
          Events 
        
      </a>

      
      
      

      
    </li>
    
    

  
  
   


    <!-- hack: home is active with contains, so if < 2, we need page.url == ... for active !-->
    
<li>
      <a href="https://icaml.org/team.html">
        
          Team 
        
      </a>

      
      
      

      
    </li>
    
    

</ul>
<!-- MARKER END!-->
			</div>		
		</nav><!-- #site-navigation -->
	</header><!-- #masthead -->

	<div id="main" class="wrapper">
	<div id="primary" class="site-content">
		<div id="content" role="main">
						
	<article id="post-6" class="post-6 page type-page status-publish hentry">
		<header class="entry-header">
						<!--<h1 class="entry-title">  Publications </h1> -->
		</header>

		<div class="entry-content">
<h1 id="multiple-regression">Multiple Regression</h1>

<hr>

<p><strong>This page can be downloaded as</strong> <a href="https://icaml.org/canon/algo/multivariate-regression/Multiple_Regression_Python/MultipleRegression.ipynb">interactive jupyter notebook</a>.</p>

<hr>

<p>In this notebook we implement the multiple regression in Python, separately for the case of having 2 independent input variables and 3 independent input variables in the regression model.</p>

<h3 id="preparation">Preparation</h3>
<p>In order to implement the regression, we first import the required Python modules.</p>

<div class="language-python highlighter-rouge hljs"><pre class="codehilite"><code><span class="kn"><span class="hljs-keyword">import</span></span> <span class="nn">math</span> 
<span class="kn"><span class="hljs-keyword">import</span></span> <span class="nn">numpy</span> <span class="kn"><span class="hljs-keyword">as</span></span> <span class="nn">np</span>                           <span class="c"><span class="hljs-comment"># used for numerical computations</span></span>
<span class="kn"><span class="hljs-keyword">import</span></span> <span class="nn">matplotlib.pyplot</span> <span class="kn"><span class="hljs-keyword">as</span></span> <span class="nn">plt</span>
<span class="kn"><span class="hljs-keyword">import</span></span> <span class="nn">ipyvolume</span> <span class="kn"><span class="hljs-keyword">as</span></span> <span class="nn">ipv</span>
<span class="kn"><span class="hljs-keyword">from</span></span> <span class="nn">mpl_toolkits.mplot3d</span> <span class="kn"><span class="hljs-keyword">import</span></span> <span class="n">Axes3D</span>      <span class="c"><span class="hljs-comment"># plotting library </span></span>
<span class="kn"><span class="hljs-keyword">from</span></span> <span class="nn">scipy.optimize</span> <span class="kn"><span class="hljs-keyword">import</span></span> <span class="n">curve_fit</span>         <span class="c"><span class="hljs-comment"># implementation of the regression</span></span>
<span class="kn"><span class="hljs-keyword">from</span></span> <span class="nn">scipy.stats.stats</span> <span class="kn"><span class="hljs-keyword">import</span></span> <span class="n">pearsonr</span>       <span class="c"><span class="hljs-comment"># used for siginificant test</span></span>
</code></pre></div>

<div class="language-python highlighter-rouge hljs"><pre class="codehilite"><code><span class="n">plt</span><span class="o">.</span><span class="n">rcParams</span><span class="p">[</span><span class="s"><span class="hljs-string">'figure.figsize'</span></span><span class="p">]</span> <span class="o">=</span> <span class="p">[</span><span class="mi"><span class="hljs-number">10</span></span><span class="p">,</span> <span class="mi"><span class="hljs-number">10</span></span><span class="p">]</span>  <span class="c"><span class="hljs-comment"># This is to set the size of the plots</span></span>
</code></pre></div>

<h2 id="part-1-multiple-regression-linear-case">Part 1: Multiple Regression (linear case)</h2>

<p>Goal of a multiple linear regression is to estimate the parameters of the best fitting (hyper)plane to some given data (observations). Our first example is the case of having 2 independent input variables <span class="MathJax_Preview" style="color: inherit; display: none;"></span><span class="MathJax" id="MathJax-Element-1-Frame" tabindex="0" data-mathml="&lt;math xmlns=&quot;http://www.w3.org/1998/Math/MathML&quot;&gt;&lt;mi&gt;x&lt;/mi&gt;&lt;/math&gt;" role="presentation" style="position: relative;"><nobr aria-hidden="true"><span class="math" id="MathJax-Span-1" style="width: 0.703em; display: inline-block;"><span style="display: inline-block; position: relative; width: 0.572em; height: 0px; font-size: 124%;"><span style="position: absolute; clip: rect(1.755em, 1000.53em, 2.457em, -999.998em); top: -2.321em; left: 0em;"><span class="mrow" id="MathJax-Span-2"><span class="mi" id="MathJax-Span-3" style="font-family: MathJax_Math-italic;">x</span></span><span style="display: inline-block; width: 0px; height: 2.325em;"></span></span></span><span style="display: inline-block; overflow: hidden; vertical-align: -0.052em; border-left: 0px solid; width: 0px; height: 0.655em;"></span></span></nobr><span class="MJX_Assistive_MathML" role="presentation"><math xmlns="http://www.w3.org/1998/Math/MathML"><mi>x</mi></math></span></span><script type="math/tex" id="MathJax-Element-1">x</script> and <span class="MathJax_Preview" style="color: inherit; display: none;"></span><span class="MathJax" id="MathJax-Element-2-Frame" tabindex="0" data-mathml="&lt;math xmlns=&quot;http://www.w3.org/1998/Math/MathML&quot;&gt;&lt;mi&gt;y&lt;/mi&gt;&lt;/math&gt;" role="presentation" style="position: relative;"><nobr aria-hidden="true"><span class="math" id="MathJax-Span-4" style="width: 0.616em; display: inline-block;"><span style="display: inline-block; position: relative; width: 0.484em; height: 0px; font-size: 124%;"><span style="position: absolute; clip: rect(1.755em, 1000.48em, 2.676em, -999.998em); top: -2.321em; left: 0em;"><span class="mrow" id="MathJax-Span-5"><span class="mi" id="MathJax-Span-6" style="font-family: MathJax_Math-italic;">y<span style="display: inline-block; overflow: hidden; height: 1px; width: 0.002em;"></span></span></span><span style="display: inline-block; width: 0px; height: 2.325em;"></span></span></span><span style="display: inline-block; overflow: hidden; vertical-align: -0.323em; border-left: 0px solid; width: 0px; height: 0.927em;"></span></span></nobr><span class="MJX_Assistive_MathML" role="presentation"><math xmlns="http://www.w3.org/1998/Math/MathML"><mi>y</mi></math></span></span><script type="math/tex" id="MathJax-Element-2">y</script> in the regression model, which basically describes a plane in 3D space:</p>

<span class="MathJax_Preview" style="color: inherit; display: none;"></span><div class="MathJax_Display" style="text-align: center;"><span class="MathJax" id="MathJax-Element-3-Frame" tabindex="0" data-mathml="&lt;math xmlns=&quot;http://www.w3.org/1998/Math/MathML&quot; display=&quot;block&quot;&gt;&lt;mi&gt;z&lt;/mi&gt;&lt;mo&gt;=&lt;/mo&gt;&lt;msub&gt;&lt;mi&gt;b&lt;/mi&gt;&lt;mn&gt;0&lt;/mn&gt;&lt;/msub&gt;&lt;mo&gt;+&lt;/mo&gt;&lt;msub&gt;&lt;mi&gt;b&lt;/mi&gt;&lt;mn&gt;1&lt;/mn&gt;&lt;/msub&gt;&lt;mo&gt;&amp;#x22C5;&lt;/mo&gt;&lt;mi&gt;x&lt;/mi&gt;&lt;mo&gt;+&lt;/mo&gt;&lt;msub&gt;&lt;mi&gt;b&lt;/mi&gt;&lt;mn&gt;2&lt;/mn&gt;&lt;/msub&gt;&lt;mo&gt;&amp;#x22C5;&lt;/mo&gt;&lt;mi&gt;y&lt;/mi&gt;&lt;/math&gt;" role="presentation" style="text-align: center; position: relative;"><nobr aria-hidden="true"><span class="math" id="MathJax-Span-7" style="width: 11.661em; display: inline-block;"><span style="display: inline-block; position: relative; width: 9.382em; height: 0px; font-size: 124%;"><span style="position: absolute; clip: rect(1.492em, 1009.38em, 2.676em, -999.998em); top: -2.321em; left: 0em;"><span class="mrow" id="MathJax-Span-8"><span class="mi" id="MathJax-Span-9" style="font-family: MathJax_Math-italic;">z<span style="display: inline-block; overflow: hidden; height: 1px; width: 0.002em;"></span></span><span class="mo" id="MathJax-Span-10" style="font-family: MathJax_Main; padding-left: 0.265em;">=</span><span class="msubsup" id="MathJax-Span-11" style="padding-left: 0.265em;"><span style="display: inline-block; position: relative; width: 0.879em; height: 0px;"><span style="position: absolute; clip: rect(3.158em, 1000.44em, 4.122em, -999.998em); top: -3.986em; left: 0em;"><span class="mi" id="MathJax-Span-12" style="font-family: MathJax_Math-italic;">b</span><span style="display: inline-block; width: 0px; height: 3.991em;"></span></span><span style="position: absolute; top: -3.855em; left: 0.44em;"><span class="mn" id="MathJax-Span-13" style="font-size: 70.7%; font-family: MathJax_Main;">0</span><span style="display: inline-block; width: 0px; height: 3.991em;"></span></span></span></span><span class="mo" id="MathJax-Span-14" style="font-family: MathJax_Main; padding-left: 0.221em;">+</span><span class="msubsup" id="MathJax-Span-15" style="padding-left: 0.221em;"><span style="display: inline-block; position: relative; width: 0.879em; height: 0px;"><span style="position: absolute; clip: rect(3.158em, 1000.44em, 4.122em, -999.998em); top: -3.986em; left: 0em;"><span class="mi" id="MathJax-Span-16" style="font-family: MathJax_Math-italic;">b</span><span style="display: inline-block; width: 0px; height: 3.991em;"></span></span><span style="position: absolute; top: -3.855em; left: 0.44em;"><span class="mn" id="MathJax-Span-17" style="font-size: 70.7%; font-family: MathJax_Main;">1</span><span style="display: inline-block; width: 0px; height: 3.991em;"></span></span></span></span><span class="mo" id="MathJax-Span-18" style="font-family: MathJax_Main; padding-left: 0.221em;">⋅</span><span class="mi" id="MathJax-Span-19" style="font-family: MathJax_Math-italic; padding-left: 0.221em;">x</span><span class="mo" id="MathJax-Span-20" style="font-family: MathJax_Main; padding-left: 0.221em;">+</span><span class="msubsup" id="MathJax-Span-21" style="padding-left: 0.221em;"><span style="display: inline-block; position: relative; width: 0.879em; height: 0px;"><span style="position: absolute; clip: rect(3.158em, 1000.44em, 4.122em, -999.998em); top: -3.986em; left: 0em;"><span class="mi" id="MathJax-Span-22" style="font-family: MathJax_Math-italic;">b</span><span style="display: inline-block; width: 0px; height: 3.991em;"></span></span><span style="position: absolute; top: -3.855em; left: 0.44em;"><span class="mn" id="MathJax-Span-23" style="font-size: 70.7%; font-family: MathJax_Main;">2</span><span style="display: inline-block; width: 0px; height: 3.991em;"></span></span></span></span><span class="mo" id="MathJax-Span-24" style="font-family: MathJax_Main; padding-left: 0.221em;">⋅</span><span class="mi" id="MathJax-Span-25" style="font-family: MathJax_Math-italic; padding-left: 0.221em;">y<span style="display: inline-block; overflow: hidden; height: 1px; width: 0.002em;"></span></span></span><span style="display: inline-block; width: 0px; height: 2.325em;"></span></span></span><span style="display: inline-block; overflow: hidden; vertical-align: -0.323em; border-left: 0px solid; width: 0px; height: 1.253em;"></span></span></nobr><span class="MJX_Assistive_MathML MJX_Assistive_MathML_Block" role="presentation"><math xmlns="http://www.w3.org/1998/Math/MathML" display="block"><mi>z</mi><mo>=</mo><msub><mi>b</mi><mn>0</mn></msub><mo>+</mo><msub><mi>b</mi><mn>1</mn></msub><mo>⋅</mo><mi>x</mi><mo>+</mo><msub><mi>b</mi><mn>2</mn></msub><mo>⋅</mo><mi>y</mi></math></span></span></div><script type="math/tex; mode=display" id="MathJax-Element-3">z = b_0+b_1\cdot x+b_2\cdot y</script>

<p>This is formulated in the next cell.</p>

<div class="language-python highlighter-rouge hljs"><pre class="codehilite"><code><span class="k"><span class="hljs-function"><span class="hljs-keyword">def</span></span></span><span class="hljs-function"> </span><span class="nf"><span class="hljs-function"><span class="hljs-title">f</span></span></span><span class="p"><span class="hljs-function"><span class="hljs-params">(</span></span></span><span class="n"><span class="hljs-function"><span class="hljs-params">data</span></span></span><span class="p"><span class="hljs-function"><span class="hljs-params">,</span></span></span><span class="hljs-function"><span class="hljs-params"> </span></span><span class="n"><span class="hljs-function"><span class="hljs-params">b0</span></span></span><span class="p"><span class="hljs-function"><span class="hljs-params">,</span></span></span><span class="hljs-function"><span class="hljs-params"> </span></span><span class="n"><span class="hljs-function"><span class="hljs-params">b1</span></span></span><span class="p"><span class="hljs-function"><span class="hljs-params">,</span></span></span><span class="hljs-function"><span class="hljs-params"> </span></span><span class="n"><span class="hljs-function"><span class="hljs-params">b2</span></span></span><span class="p"><span class="hljs-function"><span class="hljs-params">)</span>:</span></span>
    <span class="n">x</span> <span class="o">=</span> <span class="n">data</span><span class="p">[:,</span> <span class="mi"><span class="hljs-number">0</span></span><span class="p">]</span>
    <span class="n">y</span> <span class="o">=</span> <span class="n">data</span><span class="p">[:,</span> <span class="mi"><span class="hljs-number">1</span></span><span class="p">]</span>
    <span class="k"><span class="hljs-keyword">return</span></span> <span class="n">b0</span> <span class="o">+</span> <span class="n">b1</span><span class="o">*</span><span class="n">x</span> <span class="o">+</span> <span class="n">b2</span><span class="o">*</span><span class="n">y</span> 
</code></pre></div>

<h3 id="creating-a-toy-dataset">Creating a Toy Dataset</h3>
<p>In the next step, we will create a toy dataset with and without noisy samples drawn from a known distribution separately. Adding noise is to find out how the estimation will perform with noisy samples.</p>

<div class="language-python highlighter-rouge hljs"><pre class="codehilite"><code><span class="n">np</span><span class="o">.</span><span class="n">random</span><span class="o">.</span><span class="n">seed</span><span class="p">(</span><span class="mi"><span class="hljs-number">0</span></span><span class="p">)</span>                       <span class="c"><span class="hljs-comment"># We use a fixed random seed</span></span>

<span class="n">beta</span> <span class="o">=</span> <span class="o"><span class="hljs-number">-</span></span><span class="mf"><span class="hljs-number">5.853</span></span><span class="p">,</span> <span class="mf"><span class="hljs-number">1.234</span></span><span class="p">,</span> <span class="mf"><span class="hljs-number">3.567</span></span>             <span class="c"><span class="hljs-comment"># Ground truth regression parameters (vector)</span></span>

<span class="n">x</span> <span class="o">=</span> <span class="n">np</span><span class="o">.</span><span class="n">random</span><span class="o">.</span><span class="n">random</span><span class="p">((</span><span class="mi"><span class="hljs-number">100</span></span><span class="p">,</span> <span class="mi"><span class="hljs-number">1</span></span><span class="p">))</span><span class="o">*</span><span class="mi"><span class="hljs-number">10</span></span>       <span class="c"><span class="hljs-comment"># Input / indicator samples (as column vectors)</span></span>
<span class="n">y</span> <span class="o">=</span> <span class="n">np</span><span class="o">.</span><span class="n">random</span><span class="o">.</span><span class="n">random</span><span class="p">((</span><span class="mi"><span class="hljs-number">100</span></span><span class="p">,</span> <span class="mi"><span class="hljs-number">1</span></span><span class="p">))</span><span class="o">*</span><span class="mi"><span class="hljs-number">10</span></span>
<span class="n">data</span> <span class="o">=</span> <span class="n">np</span><span class="o">.</span><span class="n">hstack</span><span class="p">((</span><span class="n">x</span><span class="p">,</span> <span class="n">y</span><span class="p">))</span>

<span class="n">z</span> <span class="o">=</span> <span class="n">f</span><span class="p">(</span><span class="n">data</span><span class="p">,</span> <span class="o">*</span><span class="n">beta</span><span class="p">)</span><span class="o">.</span><span class="n">reshape</span><span class="p">(</span><span class="mi"><span class="hljs-number">100</span></span><span class="p">,</span> <span class="mi"><span class="hljs-number">1</span></span><span class="p">)</span>      <span class="c"><span class="hljs-comment"># Corresponding output variable (true plane) </span></span>

<span class="n">z_noise</span> <span class="o">=</span> <span class="n">z</span> <span class="o">+</span> <span class="n">np</span><span class="o">.</span><span class="n">random</span><span class="o">.</span><span class="n">randn</span><span class="p">(</span><span class="mi"><span class="hljs-number">100</span></span><span class="p">,</span> <span class="mi"><span class="hljs-number">1</span></span><span class="p">)</span><span class="o">*</span><span class="mi"><span class="hljs-number">5</span></span> <span class="c"><span class="hljs-comment"># Corresponding output variable with added noise</span></span>
</code></pre></div>

<h3 id="estimation-of-regression-coefficients">Estimation of regression coefficients</h3>
<p>Here, we show the process of coefficient estimation using least squares adjustment. First, we describe the relation between indicator variables and outputs as matrix multiplication:</p>

<span class="MathJax_Preview" style="color: inherit; display: none;"></span><div class="MathJax_Display" style="text-align: center;"><span class="MathJax" id="MathJax-Element-4-Frame" tabindex="0" data-mathml="&lt;math xmlns=&quot;http://www.w3.org/1998/Math/MathML&quot; display=&quot;block&quot;&gt;&lt;mi&gt;A&lt;/mi&gt;&lt;mi&gt;&amp;#x03B2;&lt;/mi&gt;&lt;mo&gt;=&lt;/mo&gt;&lt;mi&gt;B&lt;/mi&gt;&lt;mspace width=&quot;thickmathspace&quot; /&gt;&lt;mspace width=&quot;thickmathspace&quot; /&gt;&lt;mspace width=&quot;thickmathspace&quot; /&gt;&lt;mspace width=&quot;thickmathspace&quot; /&gt;&lt;mspace width=&quot;thickmathspace&quot; /&gt;&lt;mi&gt;o&lt;/mi&gt;&lt;mi&gt;r&lt;/mi&gt;&lt;mspace width=&quot;thickmathspace&quot; /&gt;&lt;mspace width=&quot;thickmathspace&quot; /&gt;&lt;mspace width=&quot;thickmathspace&quot; /&gt;&lt;mspace width=&quot;thickmathspace&quot; /&gt;&lt;mspace width=&quot;thickmathspace&quot; /&gt;&lt;mrow&gt;&lt;mo&gt;[&lt;/mo&gt;&lt;mtable rowspacing=&quot;4pt&quot; columnspacing=&quot;1em&quot;&gt;&lt;mtr&gt;&lt;mtd&gt;&lt;mn&gt;1&lt;/mn&gt;&lt;/mtd&gt;&lt;mtd&gt;&lt;msub&gt;&lt;mi&gt;x&lt;/mi&gt;&lt;mn&gt;0&lt;/mn&gt;&lt;/msub&gt;&lt;/mtd&gt;&lt;mtd&gt;&lt;msub&gt;&lt;mi&gt;y&lt;/mi&gt;&lt;mn&gt;0&lt;/mn&gt;&lt;/msub&gt;&lt;/mtd&gt;&lt;/mtr&gt;&lt;mtr&gt;&lt;mtd&gt;&lt;mn&gt;1&lt;/mn&gt;&lt;/mtd&gt;&lt;mtd&gt;&lt;msub&gt;&lt;mi&gt;x&lt;/mi&gt;&lt;mn&gt;1&lt;/mn&gt;&lt;/msub&gt;&lt;/mtd&gt;&lt;mtd&gt;&lt;msub&gt;&lt;mi&gt;y&lt;/mi&gt;&lt;mn&gt;1&lt;/mn&gt;&lt;/msub&gt;&lt;/mtd&gt;&lt;/mtr&gt;&lt;mtr&gt;&lt;mtd /&gt;&lt;mtd&gt;&lt;mo&gt;.&lt;/mo&gt;&lt;mo&gt;.&lt;/mo&gt;&lt;mo&gt;.&lt;/mo&gt;&lt;/mtd&gt;&lt;mtd /&gt;&lt;/mtr&gt;&lt;mtr&gt;&lt;mtd&gt;&lt;mn&gt;1&lt;/mn&gt;&lt;/mtd&gt;&lt;mtd&gt;&lt;msub&gt;&lt;mi&gt;x&lt;/mi&gt;&lt;mi&gt;n&lt;/mi&gt;&lt;/msub&gt;&lt;/mtd&gt;&lt;mtd&gt;&lt;msub&gt;&lt;mi&gt;y&lt;/mi&gt;&lt;mi&gt;n&lt;/mi&gt;&lt;/msub&gt;&lt;/mtd&gt;&lt;/mtr&gt;&lt;/mtable&gt;&lt;mo&gt;]&lt;/mo&gt;&lt;/mrow&gt;&lt;mrow&gt;&lt;mo&gt;[&lt;/mo&gt;&lt;mtable rowspacing=&quot;4pt&quot; columnspacing=&quot;1em&quot;&gt;&lt;mtr&gt;&lt;mtd&gt;&lt;msub&gt;&lt;mi&gt;b&lt;/mi&gt;&lt;mn&gt;0&lt;/mn&gt;&lt;/msub&gt;&lt;/mtd&gt;&lt;/mtr&gt;&lt;mtr&gt;&lt;mtd&gt;&lt;msub&gt;&lt;mi&gt;b&lt;/mi&gt;&lt;mn&gt;1&lt;/mn&gt;&lt;/msub&gt;&lt;/mtd&gt;&lt;/mtr&gt;&lt;mtr&gt;&lt;mtd&gt;&lt;msub&gt;&lt;mi&gt;b&lt;/mi&gt;&lt;mn&gt;2&lt;/mn&gt;&lt;/msub&gt;&lt;/mtd&gt;&lt;/mtr&gt;&lt;/mtable&gt;&lt;mo&gt;]&lt;/mo&gt;&lt;/mrow&gt;&lt;mo&gt;=&lt;/mo&gt;&lt;mrow&gt;&lt;mo&gt;[&lt;/mo&gt;&lt;mtable rowspacing=&quot;4pt&quot; columnspacing=&quot;1em&quot;&gt;&lt;mtr&gt;&lt;mtd&gt;&lt;msub&gt;&lt;mi&gt;z&lt;/mi&gt;&lt;mn&gt;0&lt;/mn&gt;&lt;/msub&gt;&lt;/mtd&gt;&lt;/mtr&gt;&lt;mtr&gt;&lt;mtd&gt;&lt;msub&gt;&lt;mi&gt;z&lt;/mi&gt;&lt;mn&gt;1&lt;/mn&gt;&lt;/msub&gt;&lt;/mtd&gt;&lt;/mtr&gt;&lt;mtr&gt;&lt;mtd&gt;&lt;mo&gt;.&lt;/mo&gt;&lt;mo&gt;.&lt;/mo&gt;&lt;mo&gt;.&lt;/mo&gt;&lt;/mtd&gt;&lt;/mtr&gt;&lt;mtr&gt;&lt;mtd&gt;&lt;msub&gt;&lt;mi&gt;z&lt;/mi&gt;&lt;mi&gt;n&lt;/mi&gt;&lt;/msub&gt;&lt;/mtd&gt;&lt;/mtr&gt;&lt;/mtable&gt;&lt;mo&gt;]&lt;/mo&gt;&lt;/mrow&gt;&lt;/math&gt;" role="presentation" style="text-align: center; position: relative;"><nobr aria-hidden="true"><span class="math" id="MathJax-Span-26" style="width: 25.335em; display: inline-block;"><span style="display: inline-block; position: relative; width: 20.426em; height: 0px; font-size: 124%;"><span style="position: absolute; clip: rect(2.194em, 1020.12em, 7.672em, -999.998em); top: -5.17em; left: 0em;"><span class="mrow" id="MathJax-Span-27"><span class="mi" id="MathJax-Span-28" style="font-family: MathJax_Math-italic;">A</span><span class="mi" id="MathJax-Span-29" style="font-family: MathJax_Math-italic;">β<span style="display: inline-block; overflow: hidden; height: 1px; width: 0.002em;"></span></span><span class="mo" id="MathJax-Span-30" style="font-family: MathJax_Main; padding-left: 0.265em;">=</span><span class="mi" id="MathJax-Span-31" style="font-family: MathJax_Math-italic; padding-left: 0.265em;">B</span><span class="mspace" id="MathJax-Span-32" style="height: 0em; vertical-align: 0em; width: 0.265em; display: inline-block; overflow: hidden;"></span><span class="mspace" id="MathJax-Span-33" style="height: 0em; vertical-align: 0em; width: 0.265em; display: inline-block; overflow: hidden;"></span><span class="mspace" id="MathJax-Span-34" style="height: 0em; vertical-align: 0em; width: 0.265em; display: inline-block; overflow: hidden;"></span><span class="mspace" id="MathJax-Span-35" style="height: 0em; vertical-align: 0em; width: 0.265em; display: inline-block; overflow: hidden;"></span><span class="mspace" id="MathJax-Span-36" style="height: 0em; vertical-align: 0em; width: 0.265em; display: inline-block; overflow: hidden;"></span><span class="mi" id="MathJax-Span-37" style="font-family: MathJax_Math-italic;">o</span><span class="mi" id="MathJax-Span-38" style="font-family: MathJax_Math-italic;">r</span><span class="mspace" id="MathJax-Span-39" style="height: 0em; vertical-align: 0em; width: 0.265em; display: inline-block; overflow: hidden;"></span><span class="mspace" id="MathJax-Span-40" style="height: 0em; vertical-align: 0em; width: 0.265em; display: inline-block; overflow: hidden;"></span><span class="mspace" id="MathJax-Span-41" style="height: 0em; vertical-align: 0em; width: 0.265em; display: inline-block; overflow: hidden;"></span><span class="mspace" id="MathJax-Span-42" style="height: 0em; vertical-align: 0em; width: 0.265em; display: inline-block; overflow: hidden;"></span><span class="mspace" id="MathJax-Span-43" style="height: 0em; vertical-align: 0em; width: 0.265em; display: inline-block; overflow: hidden;"></span><span class="mrow" id="MathJax-Span-44" style="padding-left: 0.178em;"><span class="mo" id="MathJax-Span-45" style="vertical-align: 2.851em;"><span style="display: inline-block; position: relative; width: 0.66em; height: 0px;"><span style="position: absolute; font-family: MathJax_Size4; top: -2.847em; left: 0em;">⎡<span style="display: inline-block; width: 0px; height: 3.991em;"></span></span><span style="position: absolute; font-family: MathJax_Size4; top: 0.572em; left: 0em;">⎣<span style="display: inline-block; width: 0px; height: 3.991em;"></span></span><span style="font-family: MathJax_Size4; position: absolute; top: -1.619em; left: 0em;">⎢<span style="display: inline-block; width: 0px; height: 3.991em;"></span></span><span style="font-family: MathJax_Size4; position: absolute; top: -1.094em; left: 0em;">⎢<span style="display: inline-block; width: 0px; height: 3.991em;"></span></span><span style="font-family: MathJax_Size4; position: absolute; top: -0.524em; left: 0em;">⎢<span style="display: inline-block; width: 0px; height: 3.991em;"></span></span></span></span><span class="mtable" id="MathJax-Span-46" style="padding-right: 0.178em; padding-left: 0.178em;"><span style="display: inline-block; position: relative; width: 4.692em; height: 0px;"><span style="position: absolute; clip: rect(3.026em, 1000.44em, 8.154em, -999.998em); top: -5.871em; left: 0em;"><span style="display: inline-block; position: relative; width: 0.484em; height: 0px;"><span style="position: absolute; clip: rect(3.202em, 1000.44em, 4.122em, -999.998em); top: -6.046em; left: 50%; margin-left: -0.261em;"><span class="mtd" id="MathJax-Span-47"><span class="mrow" id="MathJax-Span-48"><span class="mn" id="MathJax-Span-49" style="font-family: MathJax_Main;">1</span></span></span><span style="display: inline-block; width: 0px; height: 3.991em;"></span></span><span style="position: absolute; clip: rect(3.202em, 1000.44em, 4.122em, -999.998em); top: -4.644em; left: 50%; margin-left: -0.261em;"><span class="mtd" id="MathJax-Span-60"><span class="mrow" id="MathJax-Span-61"><span class="mn" id="MathJax-Span-62" style="font-family: MathJax_Main;">1</span></span></span><span style="display: inline-block; width: 0px; height: 3.991em;"></span></span><span style="position: absolute; clip: rect(3.859em, 1000em, 4.122em, -999.998em); top: -3.241em; left: 50%; margin-left: 0em;"><span class="mtd" id="MathJax-Span-73"><span class="mrow" id="MathJax-Span-74"></span></span><span style="display: inline-block; width: 0px; height: 3.991em;"></span></span><span style="position: absolute; clip: rect(3.202em, 1000.44em, 4.122em, -999.998em); top: -1.839em; left: 50%; margin-left: -0.261em;"><span class="mtd" id="MathJax-Span-82"><span class="mrow" id="MathJax-Span-83"><span class="mn" id="MathJax-Span-84" style="font-family: MathJax_Main;">1</span></span></span><span style="display: inline-block; width: 0px; height: 3.991em;"></span></span></span><span style="display: inline-block; width: 0px; height: 5.875em;"></span></span><span style="position: absolute; clip: rect(3.202em, 1001.1em, 8.286em, -999.998em); top: -5.827em; left: 1.492em;"><span style="display: inline-block; position: relative; width: 1.186em; height: 0px;"><span style="position: absolute; clip: rect(3.421em, 1001.01em, 4.297em, -999.998em); top: -6.046em; left: 50%; margin-left: -0.48em;"><span class="mtd" id="MathJax-Span-50"><span class="mrow" id="MathJax-Span-51"><span class="msubsup" id="MathJax-Span-52"><span style="display: inline-block; position: relative; width: 1.01em; height: 0px;"><span style="position: absolute; clip: rect(3.421em, 1000.53em, 4.122em, -999.998em); top: -3.986em; left: 0em;"><span class="mi" id="MathJax-Span-53" style="font-family: MathJax_Math-italic;">x</span><span style="display: inline-block; width: 0px; height: 3.991em;"></span></span><span style="position: absolute; top: -3.855em; left: 0.572em;"><span class="mn" id="MathJax-Span-54" style="font-size: 70.7%; font-family: MathJax_Main;">0</span><span style="display: inline-block; width: 0px; height: 3.991em;"></span></span></span></span></span></span><span style="display: inline-block; width: 0px; height: 3.991em;"></span></span><span style="position: absolute; clip: rect(3.421em, 1001.01em, 4.254em, -999.998em); top: -4.644em; left: 50%; margin-left: -0.48em;"><span class="mtd" id="MathJax-Span-63"><span class="mrow" id="MathJax-Span-64"><span class="msubsup" id="MathJax-Span-65"><span style="display: inline-block; position: relative; width: 1.01em; height: 0px;"><span style="position: absolute; clip: rect(3.421em, 1000.53em, 4.122em, -999.998em); top: -3.986em; left: 0em;"><span class="mi" id="MathJax-Span-66" style="font-family: MathJax_Math-italic;">x</span><span style="display: inline-block; width: 0px; height: 3.991em;"></span></span><span style="position: absolute; top: -3.855em; left: 0.572em;"><span class="mn" id="MathJax-Span-67" style="font-size: 70.7%; font-family: MathJax_Main;">1</span><span style="display: inline-block; width: 0px; height: 3.991em;"></span></span></span></span></span></span><span style="display: inline-block; width: 0px; height: 3.991em;"></span></span><span style="position: absolute; clip: rect(3.728em, 1001.1em, 4.122em, -999.998em); top: -3.241em; left: 50%; margin-left: -0.611em;"><span class="mtd" id="MathJax-Span-75"><span class="mrow" id="MathJax-Span-76"><span class="mo" id="MathJax-Span-77" style="font-family: MathJax_Main;">.</span><span class="mo" id="MathJax-Span-78" style="font-family: MathJax_Main; padding-left: 0.178em;">.</span><span class="mo" id="MathJax-Span-79" style="font-family: MathJax_Main; padding-left: 0.178em;">.</span></span></span><span style="display: inline-block; width: 0px; height: 3.991em;"></span></span><span style="position: absolute; clip: rect(3.421em, 1001.05em, 4.297em, -999.998em); top: -1.839em; left: 50%; margin-left: -0.524em;"><span class="mtd" id="MathJax-Span-85"><span class="mrow" id="MathJax-Span-86"><span class="msubsup" id="MathJax-Span-87"><span style="display: inline-block; position: relative; width: 1.054em; height: 0px;"><span style="position: absolute; clip: rect(3.421em, 1000.53em, 4.122em, -999.998em); top: -3.986em; left: 0em;"><span class="mi" id="MathJax-Span-88" style="font-family: MathJax_Math-italic;">x</span><span style="display: inline-block; width: 0px; height: 3.991em;"></span></span><span style="position: absolute; top: -3.855em; left: 0.572em;"><span class="mi" id="MathJax-Span-89" style="font-size: 70.7%; font-family: MathJax_Math-italic;">n</span><span style="display: inline-block; width: 0px; height: 3.991em;"></span></span></span></span></span></span><span style="display: inline-block; width: 0px; height: 3.991em;"></span></span></span><span style="display: inline-block; width: 0px; height: 5.831em;"></span></span><span style="position: absolute; clip: rect(3.246em, 1001.01em, 8.374em, -999.998em); top: -5.871em; left: 3.684em;"><span style="display: inline-block; position: relative; width: 1.01em; height: 0px;"><span style="position: absolute; clip: rect(3.421em, 1000.92em, 4.341em, -999.998em); top: -6.046em; left: 50%; margin-left: -0.436em;"><span class="mtd" id="MathJax-Span-55"><span class="mrow" id="MathJax-Span-56"><span class="msubsup" id="MathJax-Span-57"><span style="display: inline-block; position: relative; width: 0.923em; height: 0px;"><span style="position: absolute; clip: rect(3.421em, 1000.48em, 4.341em, -999.998em); top: -3.986em; left: 0em;"><span class="mi" id="MathJax-Span-58" style="font-family: MathJax_Math-italic;">y<span style="display: inline-block; overflow: hidden; height: 1px; width: 0.002em;"></span></span><span style="display: inline-block; width: 0px; height: 3.991em;"></span></span><span style="position: absolute; top: -3.855em; left: 0.484em;"><span class="mn" id="MathJax-Span-59" style="font-size: 70.7%; font-family: MathJax_Main;">0</span><span style="display: inline-block; width: 0px; height: 3.991em;"></span></span></span></span></span></span><span style="display: inline-block; width: 0px; height: 3.991em;"></span></span><span style="position: absolute; clip: rect(3.421em, 1000.92em, 4.341em, -999.998em); top: -4.644em; left: 50%; margin-left: -0.436em;"><span class="mtd" id="MathJax-Span-68"><span class="mrow" id="MathJax-Span-69"><span class="msubsup" id="MathJax-Span-70"><span style="display: inline-block; position: relative; width: 0.923em; height: 0px;"><span style="position: absolute; clip: rect(3.421em, 1000.48em, 4.341em, -999.998em); top: -3.986em; left: 0em;"><span class="mi" id="MathJax-Span-71" style="font-family: MathJax_Math-italic;">y<span style="display: inline-block; overflow: hidden; height: 1px; width: 0.002em;"></span></span><span style="display: inline-block; width: 0px; height: 3.991em;"></span></span><span style="position: absolute; top: -3.855em; left: 0.484em;"><span class="mn" id="MathJax-Span-72" style="font-size: 70.7%; font-family: MathJax_Main;">1</span><span style="display: inline-block; width: 0px; height: 3.991em;"></span></span></span></span></span></span><span style="display: inline-block; width: 0px; height: 3.991em;"></span></span><span style="position: absolute; clip: rect(3.859em, 1000em, 4.122em, -999.998em); top: -3.241em; left: 50%; margin-left: 0em;"><span class="mtd" id="MathJax-Span-80"><span class="mrow" id="MathJax-Span-81"></span></span><span style="display: inline-block; width: 0px; height: 3.991em;"></span></span><span style="position: absolute; clip: rect(3.421em, 1001.01em, 4.341em, -999.998em); top: -1.839em; left: 50%; margin-left: -0.48em;"><span class="mtd" id="MathJax-Span-90"><span class="mrow" id="MathJax-Span-91"><span class="msubsup" id="MathJax-Span-92"><span style="display: inline-block; position: relative; width: 1.01em; height: 0px;"><span style="position: absolute; clip: rect(3.421em, 1000.48em, 4.341em, -999.998em); top: -3.986em; left: 0em;"><span class="mi" id="MathJax-Span-93" style="font-family: MathJax_Math-italic;">y<span style="display: inline-block; overflow: hidden; height: 1px; width: 0.002em;"></span></span><span style="display: inline-block; width: 0px; height: 3.991em;"></span></span><span style="position: absolute; top: -3.855em; left: 0.484em;"><span class="mi" id="MathJax-Span-94" style="font-size: 70.7%; font-family: MathJax_Math-italic;">n</span><span style="display: inline-block; width: 0px; height: 3.991em;"></span></span></span></span></span></span><span style="display: inline-block; width: 0px; height: 3.991em;"></span></span></span><span style="display: inline-block; width: 0px; height: 5.875em;"></span></span></span></span><span class="mo" id="MathJax-Span-95" style="vertical-align: 2.851em;"><span style="display: inline-block; position: relative; width: 0.66em; height: 0px;"><span style="position: absolute; font-family: MathJax_Size4; top: -2.847em; left: 0em;">⎤<span style="display: inline-block; width: 0px; height: 3.991em;"></span></span><span style="position: absolute; font-family: MathJax_Size4; top: 0.572em; left: 0em;">⎦<span style="display: inline-block; width: 0px; height: 3.991em;"></span></span><span style="font-family: MathJax_Size4; position: absolute; top: -1.619em; left: 0em;">⎥<span style="display: inline-block; width: 0px; height: 3.991em;"></span></span><span style="font-family: MathJax_Size4; position: absolute; top: -1.094em; left: 0em;">⎥<span style="display: inline-block; width: 0px; height: 3.991em;"></span></span><span style="font-family: MathJax_Size4; position: absolute; top: -0.524em; left: 0em;">⎥<span style="display: inline-block; width: 0px; height: 3.991em;"></span></span></span></span></span><span class="mrow" id="MathJax-Span-96" style="padding-left: 0.178em;"><span class="mo" id="MathJax-Span-97" style="vertical-align: 2.15em;"><span style="display: inline-block; position: relative; width: 0.66em; height: 0px;"><span style="position: absolute; font-family: MathJax_Size4; top: -2.847em; left: 0em;">⎡<span style="display: inline-block; width: 0px; height: 3.991em;"></span></span><span style="position: absolute; font-family: MathJax_Size4; top: -0.831em; left: 0em;">⎣<span style="display: inline-block; width: 0px; height: 3.991em;"></span></span><span style="font-family: MathJax_Size4; position: absolute; top: -1.795em; left: 0em;">⎢<span style="display: inline-block; width: 0px; height: 3.991em;"></span></span></span></span><span class="mtable" id="MathJax-Span-98" style="padding-right: 0.178em; padding-left: 0.178em;"><span style="display: inline-block; position: relative; width: 0.879em; height: 0px;"><span style="position: absolute; clip: rect(2.457em, 1000.88em, 6.401em, -999.998em); top: -4.644em; left: 0em;"><span style="display: inline-block; position: relative; width: 0.879em; height: 0px;"><span style="position: absolute; clip: rect(3.158em, 1000.88em, 4.297em, -999.998em); top: -5.345em; left: 50%; margin-left: -0.436em;"><span class="mtd" id="MathJax-Span-99"><span class="mrow" id="MathJax-Span-100"><span class="msubsup" id="MathJax-Span-101"><span style="display: inline-block; position: relative; width: 0.879em; height: 0px;"><span style="position: absolute; clip: rect(3.158em, 1000.44em, 4.122em, -999.998em); top: -3.986em; left: 0em;"><span class="mi" id="MathJax-Span-102" style="font-family: MathJax_Math-italic;">b</span><span style="display: inline-block; width: 0px; height: 3.991em;"></span></span><span style="position: absolute; top: -3.855em; left: 0.44em;"><span class="mn" id="MathJax-Span-103" style="font-size: 70.7%; font-family: MathJax_Main;">0</span><span style="display: inline-block; width: 0px; height: 3.991em;"></span></span></span></span></span></span><span style="display: inline-block; width: 0px; height: 3.991em;"></span></span><span style="position: absolute; clip: rect(3.158em, 1000.88em, 4.254em, -999.998em); top: -3.942em; left: 50%; margin-left: -0.436em;"><span class="mtd" id="MathJax-Span-104"><span class="mrow" id="MathJax-Span-105"><span class="msubsup" id="MathJax-Span-106"><span style="display: inline-block; position: relative; width: 0.879em; height: 0px;"><span style="position: absolute; clip: rect(3.158em, 1000.44em, 4.122em, -999.998em); top: -3.986em; left: 0em;"><span class="mi" id="MathJax-Span-107" style="font-family: MathJax_Math-italic;">b</span><span style="display: inline-block; width: 0px; height: 3.991em;"></span></span><span style="position: absolute; top: -3.855em; left: 0.44em;"><span class="mn" id="MathJax-Span-108" style="font-size: 70.7%; font-family: MathJax_Main;">1</span><span style="display: inline-block; width: 0px; height: 3.991em;"></span></span></span></span></span></span><span style="display: inline-block; width: 0px; height: 3.991em;"></span></span><span style="position: absolute; clip: rect(3.158em, 1000.88em, 4.254em, -999.998em); top: -2.54em; left: 50%; margin-left: -0.436em;"><span class="mtd" id="MathJax-Span-109"><span class="mrow" id="MathJax-Span-110"><span class="msubsup" id="MathJax-Span-111"><span style="display: inline-block; position: relative; width: 0.879em; height: 0px;"><span style="position: absolute; clip: rect(3.158em, 1000.44em, 4.122em, -999.998em); top: -3.986em; left: 0em;"><span class="mi" id="MathJax-Span-112" style="font-family: MathJax_Math-italic;">b</span><span style="display: inline-block; width: 0px; height: 3.991em;"></span></span><span style="position: absolute; top: -3.855em; left: 0.44em;"><span class="mn" id="MathJax-Span-113" style="font-size: 70.7%; font-family: MathJax_Main;">2</span><span style="display: inline-block; width: 0px; height: 3.991em;"></span></span></span></span></span></span><span style="display: inline-block; width: 0px; height: 3.991em;"></span></span></span><span style="display: inline-block; width: 0px; height: 4.648em;"></span></span></span></span><span class="mo" id="MathJax-Span-114" style="vertical-align: 2.15em;"><span style="display: inline-block; position: relative; width: 0.66em; height: 0px;"><span style="position: absolute; font-family: MathJax_Size4; top: -2.847em; left: 0em;">⎤<span style="display: inline-block; width: 0px; height: 3.991em;"></span></span><span style="position: absolute; font-family: MathJax_Size4; top: -0.831em; left: 0em;">⎦<span style="display: inline-block; width: 0px; height: 3.991em;"></span></span><span style="font-family: MathJax_Size4; position: absolute; top: -1.795em; left: 0em;">⎥<span style="display: inline-block; width: 0px; height: 3.991em;"></span></span></span></span></span><span class="mo" id="MathJax-Span-115" style="font-family: MathJax_Main; padding-left: 0.265em;">=</span><span class="mrow" id="MathJax-Span-116" style="padding-left: 0.265em;"><span class="mo" id="MathJax-Span-117" style="vertical-align: 2.851em;"><span style="display: inline-block; position: relative; width: 0.66em; height: 0px;"><span style="position: absolute; font-family: MathJax_Size4; top: -2.847em; left: 0em;">⎡<span style="display: inline-block; width: 0px; height: 3.991em;"></span></span><span style="position: absolute; font-family: MathJax_Size4; top: 0.572em; left: 0em;">⎣<span style="display: inline-block; width: 0px; height: 3.991em;"></span></span><span style="font-family: MathJax_Size4; position: absolute; top: -1.619em; left: 0em;">⎢<span style="display: inline-block; width: 0px; height: 3.991em;"></span></span><span style="font-family: MathJax_Size4; position: absolute; top: -1.094em; left: 0em;">⎢<span style="display: inline-block; width: 0px; height: 3.991em;"></span></span><span style="font-family: MathJax_Size4; position: absolute; top: -0.524em; left: 0em;">⎢<span style="display: inline-block; width: 0px; height: 3.991em;"></span></span></span></span><span class="mtable" id="MathJax-Span-118" style="padding-right: 0.178em; padding-left: 0.178em;"><span style="display: inline-block; position: relative; width: 1.186em; height: 0px;"><span style="position: absolute; clip: rect(3.158em, 1001.1em, 8.242em, -999.998em); top: -5.783em; left: 0em;"><span style="display: inline-block; position: relative; width: 1.186em; height: 0px;"><span style="position: absolute; clip: rect(3.421em, 1000.88em, 4.297em, -999.998em); top: -6.046em; left: 50%; margin-left: -0.436em;"><span class="mtd" id="MathJax-Span-119"><span class="mrow" id="MathJax-Span-120"><span class="msubsup" id="MathJax-Span-121"><span style="display: inline-block; position: relative; width: 0.879em; height: 0px;"><span style="position: absolute; clip: rect(3.421em, 1000.48em, 4.122em, -999.998em); top: -3.986em; left: 0em;"><span class="mi" id="MathJax-Span-122" style="font-family: MathJax_Math-italic;">z<span style="display: inline-block; overflow: hidden; height: 1px; width: 0.002em;"></span></span><span style="display: inline-block; width: 0px; height: 3.991em;"></span></span><span style="position: absolute; top: -3.855em; left: 0.484em;"><span class="mn" id="MathJax-Span-123" style="font-size: 70.7%; font-family: MathJax_Main;">0</span><span style="display: inline-block; width: 0px; height: 3.991em;"></span></span></span></span></span></span><span style="display: inline-block; width: 0px; height: 3.991em;"></span></span><span style="position: absolute; clip: rect(3.421em, 1000.88em, 4.254em, -999.998em); top: -4.644em; left: 50%; margin-left: -0.436em;"><span class="mtd" id="MathJax-Span-124"><span class="mrow" id="MathJax-Span-125"><span class="msubsup" id="MathJax-Span-126"><span style="display: inline-block; position: relative; width: 0.879em; height: 0px;"><span style="position: absolute; clip: rect(3.421em, 1000.48em, 4.122em, -999.998em); top: -3.986em; left: 0em;"><span class="mi" id="MathJax-Span-127" style="font-family: MathJax_Math-italic;">z<span style="display: inline-block; overflow: hidden; height: 1px; width: 0.002em;"></span></span><span style="display: inline-block; width: 0px; height: 3.991em;"></span></span><span style="position: absolute; top: -3.855em; left: 0.484em;"><span class="mn" id="MathJax-Span-128" style="font-size: 70.7%; font-family: MathJax_Main;">1</span><span style="display: inline-block; width: 0px; height: 3.991em;"></span></span></span></span></span></span><span style="display: inline-block; width: 0px; height: 3.991em;"></span></span><span style="position: absolute; clip: rect(3.728em, 1001.1em, 4.122em, -999.998em); top: -3.241em; left: 50%; margin-left: -0.611em;"><span class="mtd" id="MathJax-Span-129"><span class="mrow" id="MathJax-Span-130"><span class="mo" id="MathJax-Span-131" style="font-family: MathJax_Main;">.</span><span class="mo" id="MathJax-Span-132" style="font-family: MathJax_Main; padding-left: 0.178em;">.</span><span class="mo" id="MathJax-Span-133" style="font-family: MathJax_Main; padding-left: 0.178em;">.</span></span></span><span style="display: inline-block; width: 0px; height: 3.991em;"></span></span><span style="position: absolute; clip: rect(3.421em, 1000.97em, 4.297em, -999.998em); top: -1.839em; left: 50%; margin-left: -0.48em;"><span class="mtd" id="MathJax-Span-134"><span class="mrow" id="MathJax-Span-135"><span class="msubsup" id="MathJax-Span-136"><span style="display: inline-block; position: relative; width: 0.966em; height: 0px;"><span style="position: absolute; clip: rect(3.421em, 1000.48em, 4.122em, -999.998em); top: -3.986em; left: 0em;"><span class="mi" id="MathJax-Span-137" style="font-family: MathJax_Math-italic;">z<span style="display: inline-block; overflow: hidden; height: 1px; width: 0.002em;"></span></span><span style="display: inline-block; width: 0px; height: 3.991em;"></span></span><span style="position: absolute; top: -3.855em; left: 0.484em;"><span class="mi" id="MathJax-Span-138" style="font-size: 70.7%; font-family: MathJax_Math-italic;">n</span><span style="display: inline-block; width: 0px; height: 3.991em;"></span></span></span></span></span></span><span style="display: inline-block; width: 0px; height: 3.991em;"></span></span></span><span style="display: inline-block; width: 0px; height: 5.788em;"></span></span></span></span><span class="mo" id="MathJax-Span-139" style="vertical-align: 2.851em;"><span style="display: inline-block; position: relative; width: 0.66em; height: 0px;"><span style="position: absolute; font-family: MathJax_Size4; top: -2.847em; left: 0em;">⎤<span style="display: inline-block; width: 0px; height: 3.991em;"></span></span><span style="position: absolute; font-family: MathJax_Size4; top: 0.572em; left: 0em;">⎦<span style="display: inline-block; width: 0px; height: 3.991em;"></span></span><span style="font-family: MathJax_Size4; position: absolute; top: -1.619em; left: 0em;">⎥<span style="display: inline-block; width: 0px; height: 3.991em;"></span></span><span style="font-family: MathJax_Size4; position: absolute; top: -1.094em; left: 0em;">⎥<span style="display: inline-block; width: 0px; height: 3.991em;"></span></span><span style="font-family: MathJax_Size4; position: absolute; top: -0.524em; left: 0em;">⎥<span style="display: inline-block; width: 0px; height: 3.991em;"></span></span></span></span></span></span><span style="display: inline-block; width: 0px; height: 5.174em;"></span></span></span><span style="display: inline-block; overflow: hidden; vertical-align: -2.986em; border-left: 0px solid; width: 0px; height: 6.579em;"></span></span></nobr><span class="MJX_Assistive_MathML MJX_Assistive_MathML_Block" role="presentation"><math xmlns="http://www.w3.org/1998/Math/MathML" display="block"><mi>A</mi><mi>β</mi><mo>=</mo><mi>B</mi><mspace width="thickmathspace"></mspace><mspace width="thickmathspace"></mspace><mspace width="thickmathspace"></mspace><mspace width="thickmathspace"></mspace><mspace width="thickmathspace"></mspace><mi>o</mi><mi>r</mi><mspace width="thickmathspace"></mspace><mspace width="thickmathspace"></mspace><mspace width="thickmathspace"></mspace><mspace width="thickmathspace"></mspace><mspace width="thickmathspace"></mspace><mrow><mo>[</mo><mtable rowspacing="4pt" columnspacing="1em"><mtr><mtd><mn>1</mn></mtd><mtd><msub><mi>x</mi><mn>0</mn></msub></mtd><mtd><msub><mi>y</mi><mn>0</mn></msub></mtd></mtr><mtr><mtd><mn>1</mn></mtd><mtd><msub><mi>x</mi><mn>1</mn></msub></mtd><mtd><msub><mi>y</mi><mn>1</mn></msub></mtd></mtr><mtr><mtd></mtd><mtd><mo>.</mo><mo>.</mo><mo>.</mo></mtd><mtd></mtd></mtr><mtr><mtd><mn>1</mn></mtd><mtd><msub><mi>x</mi><mi>n</mi></msub></mtd><mtd><msub><mi>y</mi><mi>n</mi></msub></mtd></mtr></mtable><mo>]</mo></mrow><mrow><mo>[</mo><mtable rowspacing="4pt" columnspacing="1em"><mtr><mtd><msub><mi>b</mi><mn>0</mn></msub></mtd></mtr><mtr><mtd><msub><mi>b</mi><mn>1</mn></msub></mtd></mtr><mtr><mtd><msub><mi>b</mi><mn>2</mn></msub></mtd></mtr></mtable><mo>]</mo></mrow><mo>=</mo><mrow><mo>[</mo><mtable rowspacing="4pt" columnspacing="1em"><mtr><mtd><msub><mi>z</mi><mn>0</mn></msub></mtd></mtr><mtr><mtd><msub><mi>z</mi><mn>1</mn></msub></mtd></mtr><mtr><mtd><mo>.</mo><mo>.</mo><mo>.</mo></mtd></mtr><mtr><mtd><msub><mi>z</mi><mi>n</mi></msub></mtd></mtr></mtable><mo>]</mo></mrow></math></span></span></div><script type="math/tex; mode=display" id="MathJax-Element-4">% <![CDATA[
A\beta =B \;\;\;\;\;or\;\;\;\;\; \begin{bmatrix} 1 & x_0 & y_0 \\ 1 & x_1 & y_1 \\  & ... &  \\ 1 & x_n & y_n \end{bmatrix}\begin{bmatrix} b_0 \\ b_1 \\ b_2 \end{bmatrix} = \begin{bmatrix} z_0 \\ z_1 \\ ... \\ z_n \end{bmatrix} %]]></script>

<p>Then, the estimated regression coefficients are computed via</p>

<span class="MathJax_Preview" style="color: inherit; display: none;"></span><div class="MathJax_Display" style="text-align: center;"><span class="MathJax" id="MathJax-Element-5-Frame" tabindex="0" data-mathml="&lt;math xmlns=&quot;http://www.w3.org/1998/Math/MathML&quot; display=&quot;block&quot;&gt;&lt;mi&gt;&amp;#x03B2;&lt;/mi&gt;&lt;mo&gt;=&lt;/mo&gt;&lt;mo stretchy=&quot;false&quot;&gt;(&lt;/mo&gt;&lt;msup&gt;&lt;mi&gt;A&lt;/mi&gt;&lt;mi&gt;T&lt;/mi&gt;&lt;/msup&gt;&lt;mi&gt;A&lt;/mi&gt;&lt;msup&gt;&lt;mo stretchy=&quot;false&quot;&gt;)&lt;/mo&gt;&lt;mrow class=&quot;MJX-TeXAtom-ORD&quot;&gt;&lt;mo&gt;&amp;#x2212;&lt;/mo&gt;&lt;mn&gt;1&lt;/mn&gt;&lt;/mrow&gt;&lt;/msup&gt;&lt;msup&gt;&lt;mi&gt;A&lt;/mi&gt;&lt;mi&gt;T&lt;/mi&gt;&lt;/msup&gt;&lt;mi&gt;B&lt;/mi&gt;&lt;mo&gt;.&lt;/mo&gt;&lt;/math&gt;" role="presentation" style="text-align: center; position: relative;"><nobr aria-hidden="true"><span class="math" id="MathJax-Span-140" style="width: 9.951em; display: inline-block;"><span style="display: inline-block; position: relative; width: 8.023em; height: 0px; font-size: 124%;"><span style="position: absolute; clip: rect(1.317em, 1007.93em, 2.72em, -999.998em); top: -2.321em; left: 0em;"><span class="mrow" id="MathJax-Span-141"><span class="mi" id="MathJax-Span-142" style="font-family: MathJax_Math-italic;">β<span style="display: inline-block; overflow: hidden; height: 1px; width: 0.002em;"></span></span><span class="mo" id="MathJax-Span-143" style="font-family: MathJax_Main; padding-left: 0.265em;">=</span><span class="mo" id="MathJax-Span-144" style="font-family: MathJax_Main; padding-left: 0.265em;">(</span><span class="msubsup" id="MathJax-Span-145"><span style="display: inline-block; position: relative; width: 1.317em; height: 0px;"><span style="position: absolute; clip: rect(3.158em, 1000.75em, 4.122em, -999.998em); top: -3.986em; left: 0em;"><span class="mi" id="MathJax-Span-146" style="font-family: MathJax_Math-italic;">A</span><span style="display: inline-block; width: 0px; height: 3.991em;"></span></span><span style="position: absolute; top: -4.381em; left: 0.747em;"><span class="mi" id="MathJax-Span-147" style="font-size: 70.7%; font-family: MathJax_Math-italic;">T<span style="display: inline-block; overflow: hidden; height: 1px; width: 0.09em;"></span></span><span style="display: inline-block; width: 0px; height: 3.991em;"></span></span></span></span><span class="mi" id="MathJax-Span-148" style="font-family: MathJax_Math-italic;">A</span><span class="msubsup" id="MathJax-Span-149"><span style="display: inline-block; position: relative; width: 1.361em; height: 0px;"><span style="position: absolute; clip: rect(3.114em, 1000.31em, 4.385em, -999.998em); top: -3.986em; left: 0em;"><span class="mo" id="MathJax-Span-150" style="font-family: MathJax_Main;">)</span><span style="display: inline-block; width: 0px; height: 3.991em;"></span></span><span style="position: absolute; top: -4.381em; left: 0.397em;"><span class="texatom" id="MathJax-Span-151"><span class="mrow" id="MathJax-Span-152"><span class="mo" id="MathJax-Span-153" style="font-size: 70.7%; font-family: MathJax_Main;">−</span><span class="mn" id="MathJax-Span-154" style="font-size: 70.7%; font-family: MathJax_Main;">1</span></span></span><span style="display: inline-block; width: 0px; height: 3.991em;"></span></span></span></span><span class="msubsup" id="MathJax-Span-155"><span style="display: inline-block; position: relative; width: 1.317em; height: 0px;"><span style="position: absolute; clip: rect(3.158em, 1000.75em, 4.122em, -999.998em); top: -3.986em; left: 0em;"><span class="mi" id="MathJax-Span-156" style="font-family: MathJax_Math-italic;">A</span><span style="display: inline-block; width: 0px; height: 3.991em;"></span></span><span style="position: absolute; top: -4.381em; left: 0.747em;"><span class="mi" id="MathJax-Span-157" style="font-size: 70.7%; font-family: MathJax_Math-italic;">T<span style="display: inline-block; overflow: hidden; height: 1px; width: 0.09em;"></span></span><span style="display: inline-block; width: 0px; height: 3.991em;"></span></span></span></span><span class="mi" id="MathJax-Span-158" style="font-family: MathJax_Math-italic;">B</span><span class="mo" id="MathJax-Span-159" style="font-family: MathJax_Main;">.</span></span><span style="display: inline-block; width: 0px; height: 2.325em;"></span></span></span><span style="display: inline-block; overflow: hidden; vertical-align: -0.378em; border-left: 0px solid; width: 0px; height: 1.524em;"></span></span></nobr><span class="MJX_Assistive_MathML MJX_Assistive_MathML_Block" role="presentation"><math xmlns="http://www.w3.org/1998/Math/MathML" display="block"><mi>β</mi><mo>=</mo><mo stretchy="false">(</mo><msup><mi>A</mi><mi>T</mi></msup><mi>A</mi><msup><mo stretchy="false">)</mo><mrow class="MJX-TeXAtom-ORD"><mo>−</mo><mn>1</mn></mrow></msup><msup><mi>A</mi><mi>T</mi></msup><mi>B</mi><mo>.</mo></math></span></span></div><script type="math/tex; mode=display" id="MathJax-Element-5">\beta =(A^TA)^{-1}A^TB.</script>

<p>In the next cell, we implement this equation and compute the estimated parameters for both the noisy data and the data without noise.</p>

<div class="language-python highlighter-rouge hljs"><pre class="codehilite"><code><span class="n">A</span> <span class="o">=</span> <span class="n">np</span><span class="o">.</span><span class="n">hstack</span><span class="p">((</span><span class="n">np</span><span class="o">.</span><span class="n">ones_like</span><span class="p">(</span><span class="n">x</span><span class="p">),</span> <span class="n">x</span><span class="p">,</span> <span class="n">y</span><span class="p">))</span>

<span class="n">B</span> <span class="o">=</span> <span class="n">z</span>
<span class="n">beta_reg</span> <span class="o">=</span> <span class="n">np</span><span class="o">.</span><span class="n">linalg</span><span class="o">.</span><span class="n">inv</span><span class="p">(</span><span class="n">A</span><span class="o">.</span><span class="n">T</span><span class="nd">@A</span><span class="p">)</span><span class="nd">@A.T@B</span>

<span class="n">B</span> <span class="o">=</span> <span class="n">z_noise</span>
<span class="n">beta_noise</span> <span class="o">=</span> <span class="n">np</span><span class="o">.</span><span class="n">linalg</span><span class="o">.</span><span class="n">inv</span><span class="p">(</span><span class="n">A</span><span class="o">.</span><span class="n">T</span><span class="nd">@A</span><span class="p">)</span><span class="nd">@A.T@B</span>

<span class="k">print</span><span class="p">(</span><span class="s"><span class="hljs-string">'Coefficients:'</span></span><span class="p">)</span>
<span class="k">print</span><span class="p">(</span><span class="s"><span class="hljs-string">'True:              '</span></span><span class="p">,</span> <span class="n">beta</span><span class="p">)</span>
<span class="k">print</span><span class="p">(</span><span class="s"><span class="hljs-string">'Estimated w/o noise'</span></span><span class="p">,</span> <span class="n">beta_reg</span><span class="p">[:,</span><span class="mi"><span class="hljs-number">0</span></span><span class="p">])</span>
<span class="k">print</span><span class="p">(</span><span class="s"><span class="hljs-string">'Estimated w/ noise '</span></span><span class="p">,</span> <span class="n">beta_noise</span><span class="p">[:,</span><span class="mi"><span class="hljs-number">0</span></span><span class="p">])</span>
</code></pre></div>

<div class="highlighter-rouge"><pre class="codehilite"><code>Coefficients:
True:               (-5.853, 1.234, 3.567)
Estimated w/o noise [-5.853  1.234  3.567]
Estimated w/ noise  [-4.31647347  0.95817723  3.43757662]
</code></pre></div>

<p>Comparing ground truth and estimated regression coefficients</p>

<span class="MathJax_Preview" style="color: inherit; display: none;"></span><div class="MathJax_Display" style="text-align: center;"><span class="MathJax" id="MathJax-Element-6-Frame" tabindex="0" data-mathml="&lt;math xmlns=&quot;http://www.w3.org/1998/Math/MathML&quot; display=&quot;block&quot;&gt;&lt;mi&gt;&amp;#x03B2;&lt;/mi&gt;&lt;mo&gt;=&lt;/mo&gt;&lt;mrow&gt;&lt;mo&gt;[&lt;/mo&gt;&lt;mtable rowspacing=&quot;4pt&quot; columnspacing=&quot;1em&quot;&gt;&lt;mtr&gt;&lt;mtd&gt;&lt;mo&gt;&amp;#x2212;&lt;/mo&gt;&lt;mn&gt;5.853&lt;/mn&gt;&lt;/mtd&gt;&lt;/mtr&gt;&lt;mtr&gt;&lt;mtd&gt;&lt;mn&gt;1.234&lt;/mn&gt;&lt;/mtd&gt;&lt;/mtr&gt;&lt;mtr&gt;&lt;mtd&gt;&lt;mn&gt;3.567&lt;/mn&gt;&lt;/mtd&gt;&lt;/mtr&gt;&lt;/mtable&gt;&lt;mo&gt;]&lt;/mo&gt;&lt;/mrow&gt;&lt;mspace width=&quot;thickmathspace&quot; /&gt;&lt;mo&gt;,&lt;/mo&gt;&lt;mspace width=&quot;thickmathspace&quot; /&gt;&lt;msub&gt;&lt;mi&gt;&amp;#x03B2;&lt;/mi&gt;&lt;mrow class=&quot;MJX-TeXAtom-ORD&quot;&gt;&lt;mi&gt;r&lt;/mi&gt;&lt;mi&gt;e&lt;/mi&gt;&lt;mi&gt;g&lt;/mi&gt;&lt;/mrow&gt;&lt;/msub&gt;&lt;mo&gt;=&lt;/mo&gt;&lt;mrow&gt;&lt;mo&gt;[&lt;/mo&gt;&lt;mtable rowspacing=&quot;4pt&quot; columnspacing=&quot;1em&quot;&gt;&lt;mtr&gt;&lt;mtd&gt;&lt;mo&gt;&amp;#x2212;&lt;/mo&gt;&lt;mn&gt;5.853&lt;/mn&gt;&lt;/mtd&gt;&lt;/mtr&gt;&lt;mtr&gt;&lt;mtd&gt;&lt;mn&gt;1.234&lt;/mn&gt;&lt;/mtd&gt;&lt;/mtr&gt;&lt;mtr&gt;&lt;mtd&gt;&lt;mn&gt;3.567&lt;/mn&gt;&lt;/mtd&gt;&lt;/mtr&gt;&lt;/mtable&gt;&lt;mo&gt;]&lt;/mo&gt;&lt;/mrow&gt;&lt;mspace width=&quot;thickmathspace&quot; /&gt;&lt;mo&gt;,&lt;/mo&gt;&lt;mspace width=&quot;thickmathspace&quot; /&gt;&lt;msub&gt;&lt;mi&gt;&amp;#x03B2;&lt;/mi&gt;&lt;mrow class=&quot;MJX-TeXAtom-ORD&quot;&gt;&lt;mi&gt;n&lt;/mi&gt;&lt;mi&gt;o&lt;/mi&gt;&lt;mi&gt;i&lt;/mi&gt;&lt;mi&gt;s&lt;/mi&gt;&lt;mi&gt;e&lt;/mi&gt;&lt;/mrow&gt;&lt;/msub&gt;&lt;mo&gt;=&lt;/mo&gt;&lt;mrow&gt;&lt;mo&gt;[&lt;/mo&gt;&lt;mtable rowspacing=&quot;4pt&quot; columnspacing=&quot;1em&quot;&gt;&lt;mtr&gt;&lt;mtd&gt;&lt;mo&gt;&amp;#x2212;&lt;/mo&gt;&lt;mn&gt;4.316&lt;/mn&gt;&lt;/mtd&gt;&lt;/mtr&gt;&lt;mtr&gt;&lt;mtd&gt;&lt;mn&gt;0.958&lt;/mn&gt;&lt;/mtd&gt;&lt;/mtr&gt;&lt;mtr&gt;&lt;mtd&gt;&lt;mn&gt;3.438&lt;/mn&gt;&lt;/mtd&gt;&lt;/mtr&gt;&lt;/mtable&gt;&lt;mo&gt;]&lt;/mo&gt;&lt;/mrow&gt;&lt;/math&gt;" role="presentation" style="text-align: center; position: relative;"><nobr aria-hidden="true"><span class="math" id="MathJax-Span-160" style="width: 30.989em; display: inline-block;"><span style="display: inline-block; position: relative; width: 24.985em; height: 0px; font-size: 124%;"><span style="position: absolute; clip: rect(2.194em, 1024.68em, 6.27em, -999.998em); top: -4.468em; left: 0em;"><span class="mrow" id="MathJax-Span-161"><span class="mi" id="MathJax-Span-162" style="font-family: MathJax_Math-italic;">β<span style="display: inline-block; overflow: hidden; height: 1px; width: 0.002em;"></span></span><span class="mo" id="MathJax-Span-163" style="font-family: MathJax_Main; padding-left: 0.265em;">=</span><span class="mrow" id="MathJax-Span-164" style="padding-left: 0.265em;"><span class="mo" id="MathJax-Span-165" style="vertical-align: 2.15em;"><span style="display: inline-block; position: relative; width: 0.66em; height: 0px;"><span style="position: absolute; font-family: MathJax_Size4; top: -2.847em; left: 0em;">⎡<span style="display: inline-block; width: 0px; height: 3.991em;"></span></span><span style="position: absolute; font-family: MathJax_Size4; top: -0.831em; left: 0em;">⎣<span style="display: inline-block; width: 0px; height: 3.991em;"></span></span><span style="font-family: MathJax_Size4; position: absolute; top: -1.795em; left: 0em;">⎢<span style="display: inline-block; width: 0px; height: 3.991em;"></span></span></span></span><span class="mtable" id="MathJax-Span-166" style="padding-right: 0.178em; padding-left: 0.178em;"><span style="display: inline-block; position: relative; width: 3.07em; height: 0px;"><span style="position: absolute; clip: rect(2.325em, 1003.03em, 6.094em, -999.998em); top: -4.468em; left: 0em;"><span style="display: inline-block; position: relative; width: 3.07em; height: 0px;"><span style="position: absolute; clip: rect(3.202em, 1003.03em, 4.21em, -999.998em); top: -5.345em; left: 50%; margin-left: -1.532em;"><span class="mtd" id="MathJax-Span-167"><span class="mrow" id="MathJax-Span-168"><span class="mo" id="MathJax-Span-169" style="font-family: MathJax_Main;">−</span><span class="mn" id="MathJax-Span-170" style="font-family: MathJax_Main;">5.853</span></span></span><span style="display: inline-block; width: 0px; height: 3.991em;"></span></span><span style="position: absolute; clip: rect(3.202em, 1002.24em, 4.166em, -999.998em); top: -3.942em; left: 50%; margin-left: -1.137em;"><span class="mtd" id="MathJax-Span-171"><span class="mrow" id="MathJax-Span-172"><span class="mn" id="MathJax-Span-173" style="font-family: MathJax_Main;">1.234</span></span></span><span style="display: inline-block; width: 0px; height: 3.991em;"></span></span><span style="position: absolute; clip: rect(3.202em, 1002.28em, 4.166em, -999.998em); top: -2.54em; left: 50%; margin-left: -1.137em;"><span class="mtd" id="MathJax-Span-174"><span class="mrow" id="MathJax-Span-175"><span class="mn" id="MathJax-Span-176" style="font-family: MathJax_Main;">3.567</span></span></span><span style="display: inline-block; width: 0px; height: 3.991em;"></span></span></span><span style="display: inline-block; width: 0px; height: 4.473em;"></span></span></span></span><span class="mo" id="MathJax-Span-177" style="vertical-align: 2.15em;"><span style="display: inline-block; position: relative; width: 0.66em; height: 0px;"><span style="position: absolute; font-family: MathJax_Size4; top: -2.847em; left: 0em;">⎤<span style="display: inline-block; width: 0px; height: 3.991em;"></span></span><span style="position: absolute; font-family: MathJax_Size4; top: -0.831em; left: 0em;">⎦<span style="display: inline-block; width: 0px; height: 3.991em;"></span></span><span style="font-family: MathJax_Size4; position: absolute; top: -1.795em; left: 0em;">⎥<span style="display: inline-block; width: 0px; height: 3.991em;"></span></span></span></span></span><span class="mspace" id="MathJax-Span-178" style="height: 0em; vertical-align: 0em; width: 0.265em; display: inline-block; overflow: hidden;"></span><span class="mo" id="MathJax-Span-179" style="font-family: MathJax_Main; padding-left: 0.178em;">,</span><span class="mspace" id="MathJax-Span-180" style="height: 0em; vertical-align: 0em; width: 0.265em; display: inline-block; overflow: hidden;"></span><span class="msubsup" id="MathJax-Span-181" style="padding-left: 0.178em;"><span style="display: inline-block; position: relative; width: 1.624em; height: 0px;"><span style="position: absolute; clip: rect(3.158em, 1000.57em, 4.297em, -999.998em); top: -3.986em; left: 0em;"><span class="mi" id="MathJax-Span-182" style="font-family: MathJax_Math-italic;">β<span style="display: inline-block; overflow: hidden; height: 1px; width: 0.002em;"></span></span><span style="display: inline-block; width: 0px; height: 3.991em;"></span></span><span style="position: absolute; top: -3.855em; left: 0.572em;"><span class="texatom" id="MathJax-Span-183"><span class="mrow" id="MathJax-Span-184"><span class="mi" id="MathJax-Span-185" style="font-size: 70.7%; font-family: MathJax_Math-italic;">r</span><span class="mi" id="MathJax-Span-186" style="font-size: 70.7%; font-family: MathJax_Math-italic;">e</span><span class="mi" id="MathJax-Span-187" style="font-size: 70.7%; font-family: MathJax_Math-italic;">g<span style="display: inline-block; overflow: hidden; height: 1px; width: 0.002em;"></span></span></span></span><span style="display: inline-block; width: 0px; height: 3.991em;"></span></span></span></span><span class="mo" id="MathJax-Span-188" style="font-family: MathJax_Main; padding-left: 0.265em;">=</span><span class="mrow" id="MathJax-Span-189" style="padding-left: 0.265em;"><span class="mo" id="MathJax-Span-190" style="vertical-align: 2.15em;"><span style="display: inline-block; position: relative; width: 0.66em; height: 0px;"><span style="position: absolute; font-family: MathJax_Size4; top: -2.847em; left: 0em;">⎡<span style="display: inline-block; width: 0px; height: 3.991em;"></span></span><span style="position: absolute; font-family: MathJax_Size4; top: -0.831em; left: 0em;">⎣<span style="display: inline-block; width: 0px; height: 3.991em;"></span></span><span style="font-family: MathJax_Size4; position: absolute; top: -1.795em; left: 0em;">⎢<span style="display: inline-block; width: 0px; height: 3.991em;"></span></span></span></span><span class="mtable" id="MathJax-Span-191" style="padding-right: 0.178em; padding-left: 0.178em;"><span style="display: inline-block; position: relative; width: 3.07em; height: 0px;"><span style="position: absolute; clip: rect(2.325em, 1003.03em, 6.094em, -999.998em); top: -4.468em; left: 0em;"><span style="display: inline-block; position: relative; width: 3.07em; height: 0px;"><span style="position: absolute; clip: rect(3.202em, 1003.03em, 4.21em, -999.998em); top: -5.345em; left: 50%; margin-left: -1.532em;"><span class="mtd" id="MathJax-Span-192"><span class="mrow" id="MathJax-Span-193"><span class="mo" id="MathJax-Span-194" style="font-family: MathJax_Main;">−</span><span class="mn" id="MathJax-Span-195" style="font-family: MathJax_Main;">5.853</span></span></span><span style="display: inline-block; width: 0px; height: 3.991em;"></span></span><span style="position: absolute; clip: rect(3.202em, 1002.24em, 4.166em, -999.998em); top: -3.942em; left: 50%; margin-left: -1.137em;"><span class="mtd" id="MathJax-Span-196"><span class="mrow" id="MathJax-Span-197"><span class="mn" id="MathJax-Span-198" style="font-family: MathJax_Main;">1.234</span></span></span><span style="display: inline-block; width: 0px; height: 3.991em;"></span></span><span style="position: absolute; clip: rect(3.202em, 1002.28em, 4.166em, -999.998em); top: -2.54em; left: 50%; margin-left: -1.137em;"><span class="mtd" id="MathJax-Span-199"><span class="mrow" id="MathJax-Span-200"><span class="mn" id="MathJax-Span-201" style="font-family: MathJax_Main;">3.567</span></span></span><span style="display: inline-block; width: 0px; height: 3.991em;"></span></span></span><span style="display: inline-block; width: 0px; height: 4.473em;"></span></span></span></span><span class="mo" id="MathJax-Span-202" style="vertical-align: 2.15em;"><span style="display: inline-block; position: relative; width: 0.66em; height: 0px;"><span style="position: absolute; font-family: MathJax_Size4; top: -2.847em; left: 0em;">⎤<span style="display: inline-block; width: 0px; height: 3.991em;"></span></span><span style="position: absolute; font-family: MathJax_Size4; top: -0.831em; left: 0em;">⎦<span style="display: inline-block; width: 0px; height: 3.991em;"></span></span><span style="font-family: MathJax_Size4; position: absolute; top: -1.795em; left: 0em;">⎥<span style="display: inline-block; width: 0px; height: 3.991em;"></span></span></span></span></span><span class="mspace" id="MathJax-Span-203" style="height: 0em; vertical-align: 0em; width: 0.265em; display: inline-block; overflow: hidden;"></span><span class="mo" id="MathJax-Span-204" style="font-family: MathJax_Main; padding-left: 0.178em;">,</span><span class="mspace" id="MathJax-Span-205" style="height: 0em; vertical-align: 0em; width: 0.265em; display: inline-block; overflow: hidden;"></span><span class="msubsup" id="MathJax-Span-206" style="padding-left: 0.178em;"><span style="display: inline-block; position: relative; width: 2.325em; height: 0px;"><span style="position: absolute; clip: rect(3.158em, 1000.57em, 4.297em, -999.998em); top: -3.986em; left: 0em;"><span class="mi" id="MathJax-Span-207" style="font-family: MathJax_Math-italic;">β<span style="display: inline-block; overflow: hidden; height: 1px; width: 0.002em;"></span></span><span style="display: inline-block; width: 0px; height: 3.991em;"></span></span><span style="position: absolute; top: -3.855em; left: 0.572em;"><span class="texatom" id="MathJax-Span-208"><span class="mrow" id="MathJax-Span-209"><span class="mi" id="MathJax-Span-210" style="font-size: 70.7%; font-family: MathJax_Math-italic;">n</span><span class="mi" id="MathJax-Span-211" style="font-size: 70.7%; font-family: MathJax_Math-italic;">o</span><span class="mi" id="MathJax-Span-212" style="font-size: 70.7%; font-family: MathJax_Math-italic;">i</span><span class="mi" id="MathJax-Span-213" style="font-size: 70.7%; font-family: MathJax_Math-italic;">s</span><span class="mi" id="MathJax-Span-214" style="font-size: 70.7%; font-family: MathJax_Math-italic;">e</span></span></span><span style="display: inline-block; width: 0px; height: 3.991em;"></span></span></span></span><span class="mo" id="MathJax-Span-215" style="font-family: MathJax_Main; padding-left: 0.265em;">=</span><span class="mrow" id="MathJax-Span-216" style="padding-left: 0.265em;"><span class="mo" id="MathJax-Span-217" style="vertical-align: 2.15em;"><span style="display: inline-block; position: relative; width: 0.66em; height: 0px;"><span style="position: absolute; font-family: MathJax_Size4; top: -2.847em; left: 0em;">⎡<span style="display: inline-block; width: 0px; height: 3.991em;"></span></span><span style="position: absolute; font-family: MathJax_Size4; top: -0.831em; left: 0em;">⎣<span style="display: inline-block; width: 0px; height: 3.991em;"></span></span><span style="font-family: MathJax_Size4; position: absolute; top: -1.795em; left: 0em;">⎢<span style="display: inline-block; width: 0px; height: 3.991em;"></span></span></span></span><span class="mtable" id="MathJax-Span-218" style="padding-right: 0.178em; padding-left: 0.178em;"><span style="display: inline-block; position: relative; width: 3.07em; height: 0px;"><span style="position: absolute; clip: rect(2.369em, 1003.03em, 6.138em, -999.998em); top: -4.512em; left: 0em;"><span style="display: inline-block; position: relative; width: 3.07em; height: 0px;"><span style="position: absolute; clip: rect(3.202em, 1003.03em, 4.21em, -999.998em); top: -5.345em; left: 50%; margin-left: -1.532em;"><span class="mtd" id="MathJax-Span-219"><span class="mrow" id="MathJax-Span-220"><span class="mo" id="MathJax-Span-221" style="font-family: MathJax_Main;">−</span><span class="mn" id="MathJax-Span-222" style="font-family: MathJax_Main;">4.316</span></span></span><span style="display: inline-block; width: 0px; height: 3.991em;"></span></span><span style="position: absolute; clip: rect(3.202em, 1002.24em, 4.166em, -999.998em); top: -3.942em; left: 50%; margin-left: -1.137em;"><span class="mtd" id="MathJax-Span-223"><span class="mrow" id="MathJax-Span-224"><span class="mn" id="MathJax-Span-225" style="font-family: MathJax_Main;">0.958</span></span></span><span style="display: inline-block; width: 0px; height: 3.991em;"></span></span><span style="position: absolute; clip: rect(3.202em, 1002.24em, 4.166em, -999.998em); top: -2.54em; left: 50%; margin-left: -1.137em;"><span class="mtd" id="MathJax-Span-226"><span class="mrow" id="MathJax-Span-227"><span class="mn" id="MathJax-Span-228" style="font-family: MathJax_Main;">3.438</span></span></span><span style="display: inline-block; width: 0px; height: 3.991em;"></span></span></span><span style="display: inline-block; width: 0px; height: 4.517em;"></span></span></span></span><span class="mo" id="MathJax-Span-229" style="vertical-align: 2.15em;"><span style="display: inline-block; position: relative; width: 0.66em; height: 0px;"><span style="position: absolute; font-family: MathJax_Size4; top: -2.847em; left: 0em;">⎤<span style="display: inline-block; width: 0px; height: 3.991em;"></span></span><span style="position: absolute; font-family: MathJax_Size4; top: -0.831em; left: 0em;">⎦<span style="display: inline-block; width: 0px; height: 3.991em;"></span></span><span style="font-family: MathJax_Size4; position: absolute; top: -1.795em; left: 0em;">⎥<span style="display: inline-block; width: 0px; height: 3.991em;"></span></span></span></span></span></span><span style="display: inline-block; width: 0px; height: 4.473em;"></span></span></span><span style="display: inline-block; overflow: hidden; vertical-align: -2.117em; border-left: 0px solid; width: 0px; height: 4.84em;"></span></span></nobr><span class="MJX_Assistive_MathML MJX_Assistive_MathML_Block" role="presentation"><math xmlns="http://www.w3.org/1998/Math/MathML" display="block"><mi>β</mi><mo>=</mo><mrow><mo>[</mo><mtable rowspacing="4pt" columnspacing="1em"><mtr><mtd><mo>−</mo><mn>5.853</mn></mtd></mtr><mtr><mtd><mn>1.234</mn></mtd></mtr><mtr><mtd><mn>3.567</mn></mtd></mtr></mtable><mo>]</mo></mrow><mspace width="thickmathspace"></mspace><mo>,</mo><mspace width="thickmathspace"></mspace><msub><mi>β</mi><mrow class="MJX-TeXAtom-ORD"><mi>r</mi><mi>e</mi><mi>g</mi></mrow></msub><mo>=</mo><mrow><mo>[</mo><mtable rowspacing="4pt" columnspacing="1em"><mtr><mtd><mo>−</mo><mn>5.853</mn></mtd></mtr><mtr><mtd><mn>1.234</mn></mtd></mtr><mtr><mtd><mn>3.567</mn></mtd></mtr></mtable><mo>]</mo></mrow><mspace width="thickmathspace"></mspace><mo>,</mo><mspace width="thickmathspace"></mspace><msub><mi>β</mi><mrow class="MJX-TeXAtom-ORD"><mi>n</mi><mi>o</mi><mi>i</mi><mi>s</mi><mi>e</mi></mrow></msub><mo>=</mo><mrow><mo>[</mo><mtable rowspacing="4pt" columnspacing="1em"><mtr><mtd><mo>−</mo><mn>4.316</mn></mtd></mtr><mtr><mtd><mn>0.958</mn></mtd></mtr><mtr><mtd><mn>3.438</mn></mtd></mtr></mtable><mo>]</mo></mrow></math></span></span></div><script type="math/tex; mode=display" id="MathJax-Element-6">\beta = \begin{bmatrix} -5.853\\1.234\\3.567 \end{bmatrix} \;,\; \beta_{reg} = \begin{bmatrix} -5.853\\1.234\\3.567\end{bmatrix}  \;,\; \beta_{noise} = \begin{bmatrix} -4.316 \\ 0.958  \\3.438\end{bmatrix}</script>

<p>we see that the estimated regression coefficients based on noisy data samples are quite close to the ground truth. The estimated ones without noise are equal to ground truth.</p>

<h3 id="visualization">Visualization</h3>
<p>For visualization, we draw the true and estimated plane. Since there is no difference between the estimated parameters without noise and the correct plane, we only draw the one estimated based on noisy data.</p>

<div class="language-python highlighter-rouge hljs"><pre class="codehilite"><code><span class="k"><span class="hljs-function"><span class="hljs-keyword">def</span></span></span><span class="hljs-function"> </span><span class="nf"><span class="hljs-function"><span class="hljs-title">draw_plane</span></span></span><span class="p"><span class="hljs-function"><span class="hljs-params">(</span></span></span><span class="n"><span class="hljs-function"><span class="hljs-params">ax</span></span></span><span class="p"><span class="hljs-function"><span class="hljs-params">,</span></span></span><span class="hljs-function"><span class="hljs-params"> </span></span><span class="n"><span class="hljs-function"><span class="hljs-params">xlim</span></span></span><span class="p"><span class="hljs-function"><span class="hljs-params">,</span></span></span><span class="hljs-function"><span class="hljs-params"> </span></span><span class="n"><span class="hljs-function"><span class="hljs-params">ylim</span></span></span><span class="p"><span class="hljs-function"><span class="hljs-params">,</span></span></span><span class="hljs-function"><span class="hljs-params"> </span></span><span class="n"><span class="hljs-function"><span class="hljs-params">beta</span></span></span><span class="p"><span class="hljs-function"><span class="hljs-params">,</span></span></span><span class="hljs-function"><span class="hljs-params"> </span></span><span class="n"><span class="hljs-function"><span class="hljs-params">color</span></span></span><span class="p"><span class="hljs-function"><span class="hljs-params">,</span></span></span><span class="hljs-function"><span class="hljs-params"> </span></span><span class="n"><span class="hljs-function"><span class="hljs-params">label</span></span></span><span class="p"><span class="hljs-function"><span class="hljs-params">)</span>:</span></span>
    <span class="n">X</span><span class="p">,</span> <span class="n">Y</span> <span class="o">=</span> <span class="n">np</span><span class="o">.</span><span class="n">meshgrid</span><span class="p">(</span><span class="n">np</span><span class="o">.</span><span class="n">arange</span><span class="p">(</span><span class="o">*</span><span class="n">xlim</span><span class="p">),</span> <span class="n">np</span><span class="o">.</span><span class="n">arange</span><span class="p">(</span><span class="o">*</span><span class="n">ylim</span><span class="p">))</span>
    <span class="n">data</span> <span class="o">=</span> <span class="n">np</span><span class="o">.</span><span class="n">hstack</span><span class="p">((</span><span class="n">X</span><span class="o">.</span><span class="n">reshape</span><span class="p">(</span><span class="o"><span class="hljs-number">-</span></span><span class="mi"><span class="hljs-number">1</span></span><span class="p">,</span><span class="mi"><span class="hljs-number">1</span></span><span class="p">),</span> <span class="n">Y</span><span class="o">.</span><span class="n">reshape</span><span class="p">(</span><span class="o"><span class="hljs-number">-</span></span><span class="mi"><span class="hljs-number">1</span></span><span class="p">,</span><span class="mi"><span class="hljs-number">1</span></span><span class="p">)))</span>
    <span class="n">Z</span> <span class="o">=</span> <span class="n">f</span><span class="p">(</span><span class="n">data</span><span class="p">,</span> <span class="o">*</span><span class="n">beta</span><span class="p">)</span><span class="o">.</span><span class="n">reshape</span><span class="p">(</span><span class="n">X</span><span class="o">.</span><span class="n">shape</span><span class="p">)</span>
    <span class="n">ax</span><span class="o">.</span><span class="n">plot_wireframe</span><span class="p">(</span><span class="n">X</span><span class="p">,</span> <span class="n">Y</span><span class="p">,</span> <span class="n">Z</span><span class="p">,</span> <span class="n">color</span><span class="o">=</span><span class="n">color</span><span class="p">,</span> <span class="n">label</span><span class="o">=</span><span class="n">label</span><span class="p">)</span>  

<span class="n">plt</span><span class="o">.</span><span class="n">figure</span><span class="p">()</span>
<span class="n">ax</span> <span class="o">=</span> <span class="n">plt</span><span class="o">.</span><span class="n">gca</span><span class="p">(</span><span class="n">projection</span><span class="o">=</span><span class="s"><span class="hljs-string">'3d'</span></span><span class="p">)</span>
<span class="n">ax</span><span class="o">.</span><span class="n">scatter</span><span class="p">(</span><span class="n">x</span><span class="p">,</span><span class="n">y</span><span class="p">,</span><span class="n">z_noise</span><span class="p">,</span><span class="n">color</span><span class="o">=</span><span class="s"><span class="hljs-string">'b'</span></span><span class="p">,</span><span class="n">label</span><span class="o">=</span><span class="s"><span class="hljs-string">'Data points'</span></span><span class="p">)</span>
<span class="n">draw_plane</span><span class="p">(</span><span class="n">ax</span><span class="p">,[</span><span class="mf"><span class="hljs-number">0.</span></span><span class="p">,</span><span class="mf"><span class="hljs-number">11.</span></span><span class="p">],</span> <span class="p">[</span><span class="mf"><span class="hljs-number">0.</span></span><span class="p">,</span><span class="mf"><span class="hljs-number">11.</span></span><span class="p">],</span> <span class="n">beta</span><span class="p">,</span> <span class="s"><span class="hljs-string">'k'</span></span><span class="p">,</span> <span class="s"><span class="hljs-string">'True plane'</span></span><span class="p">)</span>
<span class="n">draw_plane</span><span class="p">(</span><span class="n">ax</span><span class="p">,[</span><span class="mf"><span class="hljs-number">0.</span></span><span class="p">,</span><span class="mf"><span class="hljs-number">11.</span></span><span class="p">],</span> <span class="p">[</span><span class="mf"><span class="hljs-number">0.</span></span><span class="p">,</span><span class="mf"><span class="hljs-number">11.</span></span><span class="p">],</span> <span class="n">beta_noise</span><span class="p">,</span> <span class="s"><span class="hljs-string">'r'</span></span><span class="p">,</span> <span class="s"><span class="hljs-string">'Regressed plane'</span></span><span class="p">)</span>

<span class="n">ax</span><span class="o">.</span><span class="n">set_xlabel</span><span class="p">(</span><span class="s"><span class="hljs-string">'x'</span></span><span class="p">);</span> <span class="n">ax</span><span class="o">.</span><span class="n">set_ylabel</span><span class="p">(</span><span class="s"><span class="hljs-string">'y'</span></span><span class="p">);</span> <span class="n">ax</span><span class="o">.</span><span class="n">set_zlabel</span><span class="p">(</span><span class="s"><span class="hljs-string">'z'</span></span><span class="p">)</span>
<span class="n">ax</span><span class="o">.</span><span class="n">legend</span><span class="p">()</span>

<span class="n">plt</span><span class="o">.</span><span class="n">show</span><span class="p">()</span>
</code></pre></div>

<p><img src="./Interdisciplinary Center for Applied Machine Learning_files/output_12_0.png" alt="png"></p>

<p>At this point we can also use <code class="highlighter-rouge">ipvolume</code> to create an interactive visualization.</p>

<div class="language-python highlighter-rouge hljs"><pre class="codehilite"><code><span class="k"><span class="hljs-function"><span class="hljs-keyword">def</span></span></span><span class="hljs-function"> </span><span class="nf"><span class="hljs-function"><span class="hljs-title">draw_plane_ipv</span></span></span><span class="p"><span class="hljs-function"><span class="hljs-params">(</span></span></span><span class="n"><span class="hljs-function"><span class="hljs-params">xlim</span></span></span><span class="p"><span class="hljs-function"><span class="hljs-params">,</span></span></span><span class="hljs-function"><span class="hljs-params"> </span></span><span class="n"><span class="hljs-function"><span class="hljs-params">ylim</span></span></span><span class="p"><span class="hljs-function"><span class="hljs-params">,</span></span></span><span class="hljs-function"><span class="hljs-params"> </span></span><span class="n"><span class="hljs-function"><span class="hljs-params">beta</span></span></span><span class="p"><span class="hljs-function"><span class="hljs-params">,</span></span></span><span class="hljs-function"><span class="hljs-params"> </span></span><span class="n"><span class="hljs-function"><span class="hljs-params">color</span></span></span><span class="p"><span class="hljs-function"><span class="hljs-params">)</span>:</span></span>
    <span class="n">X</span><span class="p">,</span> <span class="n">Y</span> <span class="o">=</span> <span class="n">np</span><span class="o">.</span><span class="n">meshgrid</span><span class="p">(</span><span class="n">np</span><span class="o">.</span><span class="n">arange</span><span class="p">(</span><span class="o">*</span><span class="n">xlim</span><span class="p">),</span> <span class="n">np</span><span class="o">.</span><span class="n">arange</span><span class="p">(</span><span class="o">*</span><span class="n">ylim</span><span class="p">))</span>
    <span class="n">data</span> <span class="o">=</span> <span class="n">np</span><span class="o">.</span><span class="n">hstack</span><span class="p">((</span><span class="n">X</span><span class="o">.</span><span class="n">reshape</span><span class="p">(</span><span class="o"><span class="hljs-number">-</span></span><span class="mi"><span class="hljs-number">1</span></span><span class="p">,</span><span class="mi"><span class="hljs-number">1</span></span><span class="p">),</span> <span class="n">Y</span><span class="o">.</span><span class="n">reshape</span><span class="p">(</span><span class="o"><span class="hljs-number">-</span></span><span class="mi"><span class="hljs-number">1</span></span><span class="p">,</span><span class="mi"><span class="hljs-number">1</span></span><span class="p">)))</span>
    <span class="n">Z</span> <span class="o">=</span> <span class="n">f</span><span class="p">(</span><span class="n">data</span><span class="p">,</span> <span class="o">*</span><span class="n">beta</span><span class="p">)</span><span class="o">.</span><span class="n">reshape</span><span class="p">(</span><span class="n">X</span><span class="o">.</span><span class="n">shape</span><span class="p">)</span>
    <span class="n">ipv</span><span class="o">.</span><span class="n">plot_wireframe</span><span class="p">(</span><span class="n">X</span><span class="p">,</span> <span class="n">Y</span><span class="p">,</span> <span class="n">Z</span><span class="p">,</span> <span class="n">color</span><span class="o">=</span><span class="n">color</span><span class="p">)</span>

<span class="n">ipv</span><span class="o">.</span><span class="n">figure</span><span class="p">()</span>
<span class="n">ipv</span><span class="o">.</span><span class="n">scatter</span><span class="p">(</span><span class="n">x</span><span class="o">.</span><span class="n">ravel</span><span class="p">(),</span> <span class="n">y</span><span class="o">.</span><span class="n">ravel</span><span class="p">(),</span> <span class="n">z_noise</span><span class="o">.</span><span class="n">ravel</span><span class="p">(),</span> <span class="n">color</span><span class="o">=</span><span class="s"><span class="hljs-string">"blue"</span></span><span class="p">)</span>
<span class="n">draw_plane_ipv</span><span class="p">([</span><span class="mf"><span class="hljs-number">0.</span></span><span class="p">,</span><span class="mf"><span class="hljs-number">11.</span></span><span class="p">],</span> <span class="p">[</span><span class="mf"><span class="hljs-number">0.</span></span><span class="p">,</span><span class="mf"><span class="hljs-number">11.</span></span><span class="p">],</span> <span class="n">beta</span><span class="p">,</span> <span class="s"><span class="hljs-string">'black'</span></span><span class="p">)</span>
<span class="n">draw_plane_ipv</span><span class="p">([</span><span class="mf"><span class="hljs-number">0.</span></span><span class="p">,</span><span class="mf"><span class="hljs-number">11.</span></span><span class="p">],</span> <span class="p">[</span><span class="mf"><span class="hljs-number">0.</span></span><span class="p">,</span><span class="mf"><span class="hljs-number">11.</span></span><span class="p">],</span> <span class="n">beta_noise</span><span class="p">,</span> <span class="s"><span class="hljs-string">'red'</span></span><span class="p">)</span>
<span class="n">ipv</span><span class="o">.</span><span class="n">show</span><span class="p">()</span>
</code></pre></div>

<iframe width="100%" height="500" scrolling="no" src="./Interdisciplinary Center for Applied Machine Learning_files/ipv1.html" frameborder="0" allowfullscreen="true"> </iframe>

<h3 id="correlation-analysis">Correlation analysis</h3>
<p>The correlation coefficient is calculated via,</p>

<span class="MathJax_Preview" style="color: inherit; display: none;"></span><div class="MathJax_Display" style="text-align: center;"><span class="MathJax" id="MathJax-Element-7-Frame" tabindex="0" data-mathml="&lt;math xmlns=&quot;http://www.w3.org/1998/Math/MathML&quot; display=&quot;block&quot;&gt;&lt;msup&gt;&lt;mi&gt;R&lt;/mi&gt;&lt;mn&gt;2&lt;/mn&gt;&lt;/msup&gt;&lt;mo&gt;=&lt;/mo&gt;&lt;msup&gt;&lt;mi&gt;c&lt;/mi&gt;&lt;mi&gt;T&lt;/mi&gt;&lt;/msup&gt;&lt;msubsup&gt;&lt;mi&gt;R&lt;/mi&gt;&lt;mrow class=&quot;MJX-TeXAtom-ORD&quot;&gt;&lt;mi&gt;x&lt;/mi&gt;&lt;mi&gt;x&lt;/mi&gt;&lt;/mrow&gt;&lt;mrow class=&quot;MJX-TeXAtom-ORD&quot;&gt;&lt;mo&gt;&amp;#x2212;&lt;/mo&gt;&lt;mn&gt;1&lt;/mn&gt;&lt;/mrow&gt;&lt;/msubsup&gt;&lt;mi&gt;c&lt;/mi&gt;&lt;mo&gt;,&lt;/mo&gt;&lt;/math&gt;" role="presentation" style="text-align: center; position: relative;"><nobr aria-hidden="true"><span class="math" id="MathJax-Span-230" style="width: 7.409em; display: inline-block;"><span style="display: inline-block; position: relative; width: 5.963em; height: 0px; font-size: 124%;"><span style="position: absolute; clip: rect(1.317em, 1005.88em, 2.632em, -999.998em); top: -2.321em; left: 0em;"><span class="mrow" id="MathJax-Span-231"><span class="msubsup" id="MathJax-Span-232"><span style="display: inline-block; position: relative; width: 1.186em; height: 0px;"><span style="position: absolute; clip: rect(3.158em, 1000.75em, 4.122em, -999.998em); top: -3.986em; left: 0em;"><span class="mi" id="MathJax-Span-233" style="font-family: MathJax_Math-italic;">R</span><span style="display: inline-block; width: 0px; height: 3.991em;"></span></span><span style="position: absolute; top: -4.381em; left: 0.747em;"><span class="mn" id="MathJax-Span-234" style="font-size: 70.7%; font-family: MathJax_Main;">2</span><span style="display: inline-block; width: 0px; height: 3.991em;"></span></span></span></span><span class="mo" id="MathJax-Span-235" style="font-family: MathJax_Main; padding-left: 0.265em;">=</span><span class="msubsup" id="MathJax-Span-236" style="padding-left: 0.265em;"><span style="display: inline-block; position: relative; width: 1.01em; height: 0px;"><span style="position: absolute; clip: rect(3.421em, 1000.44em, 4.122em, -999.998em); top: -3.986em; left: 0em;"><span class="mi" id="MathJax-Span-237" style="font-family: MathJax_Math-italic;">c</span><span style="display: inline-block; width: 0px; height: 3.991em;"></span></span><span style="position: absolute; top: -4.381em; left: 0.44em;"><span class="mi" id="MathJax-Span-238" style="font-size: 70.7%; font-family: MathJax_Math-italic;">T<span style="display: inline-block; overflow: hidden; height: 1px; width: 0.09em;"></span></span><span style="display: inline-block; width: 0px; height: 3.991em;"></span></span></span></span><span class="msubsup" id="MathJax-Span-239"><span style="display: inline-block; position: relative; width: 1.755em; height: 0px;"><span style="position: absolute; clip: rect(3.158em, 1000.75em, 4.122em, -999.998em); top: -3.986em; left: 0em;"><span class="mi" id="MathJax-Span-240" style="font-family: MathJax_Math-italic;">R</span><span style="display: inline-block; width: 0px; height: 3.991em;"></span></span><span style="position: absolute; clip: rect(3.377em, 1000.97em, 4.166em, -999.998em); top: -4.381em; left: 0.747em;"><span class="texatom" id="MathJax-Span-241"><span class="mrow" id="MathJax-Span-242"><span class="mo" id="MathJax-Span-243" style="font-size: 70.7%; font-family: MathJax_Main;">−</span><span class="mn" id="MathJax-Span-244" style="font-size: 70.7%; font-family: MathJax_Main;">1</span></span></span><span style="display: inline-block; width: 0px; height: 3.991em;"></span></span><span style="position: absolute; clip: rect(3.552em, 1000.88em, 4.122em, -999.998em); top: -3.855em; left: 0.747em;"><span class="texatom" id="MathJax-Span-245"><span class="mrow" id="MathJax-Span-246"><span class="mi" id="MathJax-Span-247" style="font-size: 70.7%; font-family: MathJax_Math-italic;">x</span><span class="mi" id="MathJax-Span-248" style="font-size: 70.7%; font-family: MathJax_Math-italic;">x</span></span></span><span style="display: inline-block; width: 0px; height: 3.991em;"></span></span></span></span><span class="mi" id="MathJax-Span-249" style="font-family: MathJax_Math-italic;">c</span><span class="mo" id="MathJax-Span-250" style="font-family: MathJax_Main;">,</span></span><span style="display: inline-block; width: 0px; height: 2.325em;"></span></span></span><span style="display: inline-block; overflow: hidden; vertical-align: -0.269em; border-left: 0px solid; width: 0px; height: 1.47em;"></span></span></nobr><span class="MJX_Assistive_MathML MJX_Assistive_MathML_Block" role="presentation"><math xmlns="http://www.w3.org/1998/Math/MathML" display="block"><msup><mi>R</mi><mn>2</mn></msup><mo>=</mo><msup><mi>c</mi><mi>T</mi></msup><msubsup><mi>R</mi><mrow class="MJX-TeXAtom-ORD"><mi>x</mi><mi>x</mi></mrow><mrow class="MJX-TeXAtom-ORD"><mo>−</mo><mn>1</mn></mrow></msubsup><mi>c</mi><mo>,</mo></math></span></span></div><script type="math/tex; mode=display" id="MathJax-Element-7">R^2 =c^TR_{xx}^{-1}c,</script>

<p>where the vector <span class="MathJax_Preview" style="color: inherit; display: none;"></span><span class="MathJax" id="MathJax-Element-8-Frame" tabindex="0" data-mathml="&lt;math xmlns=&quot;http://www.w3.org/1998/Math/MathML&quot;&gt;&lt;mi&gt;c&lt;/mi&gt;&lt;mo&gt;=&lt;/mo&gt;&lt;mo stretchy=&quot;false&quot;&gt;(&lt;/mo&gt;&lt;msub&gt;&lt;mi&gt;r&lt;/mi&gt;&lt;mrow class=&quot;MJX-TeXAtom-ORD&quot;&gt;&lt;mi&gt;x&lt;/mi&gt;&lt;mi&gt;z&lt;/mi&gt;&lt;mo&gt;,&lt;/mo&gt;&lt;/mrow&gt;&lt;/msub&gt;&lt;msub&gt;&lt;mi&gt;r&lt;/mi&gt;&lt;mrow class=&quot;MJX-TeXAtom-ORD&quot;&gt;&lt;mi&gt;y&lt;/mi&gt;&lt;mi&gt;z&lt;/mi&gt;&lt;/mrow&gt;&lt;/msub&gt;&lt;msup&gt;&lt;mo stretchy=&quot;false&quot;&gt;)&lt;/mo&gt;&lt;mi&gt;T&lt;/mi&gt;&lt;/msup&gt;&lt;/math&gt;" role="presentation" style="position: relative;"><nobr aria-hidden="true"><span class="math" id="MathJax-Span-251" style="width: 7.19em; display: inline-block;"><span style="display: inline-block; position: relative; width: 5.788em; height: 0px; font-size: 124%;"><span style="position: absolute; clip: rect(1.361em, 1005.79em, 2.763em, -999.998em); top: -2.321em; left: 0em;"><span class="mrow" id="MathJax-Span-252"><span class="mi" id="MathJax-Span-253" style="font-family: MathJax_Math-italic;">c</span><span class="mo" id="MathJax-Span-254" style="font-family: MathJax_Main; padding-left: 0.265em;">=</span><span class="mo" id="MathJax-Span-255" style="font-family: MathJax_Main; padding-left: 0.265em;">(</span><span class="msubsup" id="MathJax-Span-256"><span style="display: inline-block; position: relative; width: 1.449em; height: 0px;"><span style="position: absolute; clip: rect(3.421em, 1000.44em, 4.122em, -999.998em); top: -3.986em; left: 0em;"><span class="mi" id="MathJax-Span-257" style="font-family: MathJax_Math-italic;">r</span><span style="display: inline-block; width: 0px; height: 3.991em;"></span></span><span style="position: absolute; top: -3.855em; left: 0.44em;"><span class="texatom" id="MathJax-Span-258"><span class="mrow" id="MathJax-Span-259"><span class="mi" id="MathJax-Span-260" style="font-size: 70.7%; font-family: MathJax_Math-italic;">x</span><span class="mi" id="MathJax-Span-261" style="font-size: 70.7%; font-family: MathJax_Math-italic;">z<span style="display: inline-block; overflow: hidden; height: 1px; width: 0.002em;"></span></span><span class="mo" id="MathJax-Span-262" style="font-size: 70.7%; font-family: MathJax_Main;">,</span></span></span><span style="display: inline-block; width: 0px; height: 3.991em;"></span></span></span></span><span class="msubsup" id="MathJax-Span-263"><span style="display: inline-block; position: relative; width: 1.229em; height: 0px;"><span style="position: absolute; clip: rect(3.421em, 1000.44em, 4.122em, -999.998em); top: -3.986em; left: 0em;"><span class="mi" id="MathJax-Span-264" style="font-family: MathJax_Math-italic;">r</span><span style="display: inline-block; width: 0px; height: 3.991em;"></span></span><span style="position: absolute; top: -3.855em; left: 0.44em;"><span class="texatom" id="MathJax-Span-265"><span class="mrow" id="MathJax-Span-266"><span class="mi" id="MathJax-Span-267" style="font-size: 70.7%; font-family: MathJax_Math-italic;">y<span style="display: inline-block; overflow: hidden; height: 1px; width: 0.002em;"></span></span><span class="mi" id="MathJax-Span-268" style="font-size: 70.7%; font-family: MathJax_Math-italic;">z<span style="display: inline-block; overflow: hidden; height: 1px; width: 0.002em;"></span></span></span></span><span style="display: inline-block; width: 0px; height: 3.991em;"></span></span></span></span><span class="msubsup" id="MathJax-Span-269"><span style="display: inline-block; position: relative; width: 0.966em; height: 0px;"><span style="position: absolute; clip: rect(3.114em, 1000.31em, 4.385em, -999.998em); top: -3.986em; left: 0em;"><span class="mo" id="MathJax-Span-270" style="font-family: MathJax_Main;">)</span><span style="display: inline-block; width: 0px; height: 3.991em;"></span></span><span style="position: absolute; top: -4.337em; left: 0.397em;"><span class="mi" id="MathJax-Span-271" style="font-size: 70.7%; font-family: MathJax_Math-italic;">T<span style="display: inline-block; overflow: hidden; height: 1px; width: 0.09em;"></span></span><span style="display: inline-block; width: 0px; height: 3.991em;"></span></span></span></span></span><span style="display: inline-block; width: 0px; height: 2.325em;"></span></span></span><span style="display: inline-block; overflow: hidden; vertical-align: -0.432em; border-left: 0px solid; width: 0px; height: 1.524em;"></span></span></nobr><span class="MJX_Assistive_MathML" role="presentation"><math xmlns="http://www.w3.org/1998/Math/MathML"><mi>c</mi><mo>=</mo><mo stretchy="false">(</mo><msub><mi>r</mi><mrow class="MJX-TeXAtom-ORD"><mi>x</mi><mi>z</mi><mo>,</mo></mrow></msub><msub><mi>r</mi><mrow class="MJX-TeXAtom-ORD"><mi>y</mi><mi>z</mi></mrow></msub><msup><mo stretchy="false">)</mo><mi>T</mi></msup></math></span></span><script type="math/tex" id="MathJax-Element-8"> c = (r_{xz,}r_{yz})^T </script> contains the correlations between the independent variables x, y and the independent variable z,
and the matrix <span class="MathJax_Preview" style="color: inherit; display: none;"></span><span class="MathJax" id="MathJax-Element-9-Frame" tabindex="0" data-mathml="&lt;math xmlns=&quot;http://www.w3.org/1998/Math/MathML&quot;&gt;&lt;msubsup&gt;&lt;mi&gt;R&lt;/mi&gt;&lt;mrow class=&quot;MJX-TeXAtom-ORD&quot;&gt;&lt;mi&gt;x&lt;/mi&gt;&lt;mi&gt;x&lt;/mi&gt;&lt;/mrow&gt;&lt;mrow class=&quot;MJX-TeXAtom-ORD&quot;&gt;&lt;mo&gt;&amp;#x2212;&lt;/mo&gt;&lt;mn&gt;1&lt;/mn&gt;&lt;/mrow&gt;&lt;/msubsup&gt;&lt;/math&gt;" role="presentation" style="position: relative;"><nobr aria-hidden="true"><span class="math" id="MathJax-Span-272" style="width: 2.194em; display: inline-block;"><span style="display: inline-block; position: relative; width: 1.755em; height: 0px; font-size: 124%;"><span style="position: absolute; clip: rect(1.317em, 1001.75em, 2.632em, -999.998em); top: -2.321em; left: 0em;"><span class="mrow" id="MathJax-Span-273"><span class="msubsup" id="MathJax-Span-274"><span style="display: inline-block; position: relative; width: 1.755em; height: 0px;"><span style="position: absolute; clip: rect(3.158em, 1000.75em, 4.122em, -999.998em); top: -3.986em; left: 0em;"><span class="mi" id="MathJax-Span-275" style="font-family: MathJax_Math-italic;">R</span><span style="display: inline-block; width: 0px; height: 3.991em;"></span></span><span style="position: absolute; clip: rect(3.377em, 1000.97em, 4.166em, -999.998em); top: -4.381em; left: 0.747em;"><span class="texatom" id="MathJax-Span-276"><span class="mrow" id="MathJax-Span-277"><span class="mo" id="MathJax-Span-278" style="font-size: 70.7%; font-family: MathJax_Main;">−</span><span class="mn" id="MathJax-Span-279" style="font-size: 70.7%; font-family: MathJax_Main;">1</span></span></span><span style="display: inline-block; width: 0px; height: 3.991em;"></span></span><span style="position: absolute; clip: rect(3.552em, 1000.88em, 4.122em, -999.998em); top: -3.855em; left: 0.747em;"><span class="texatom" id="MathJax-Span-280"><span class="mrow" id="MathJax-Span-281"><span class="mi" id="MathJax-Span-282" style="font-size: 70.7%; font-family: MathJax_Math-italic;">x</span><span class="mi" id="MathJax-Span-283" style="font-size: 70.7%; font-family: MathJax_Math-italic;">x</span></span></span><span style="display: inline-block; width: 0px; height: 3.991em;"></span></span></span></span></span><span style="display: inline-block; width: 0px; height: 2.325em;"></span></span></span><span style="display: inline-block; overflow: hidden; vertical-align: -0.269em; border-left: 0px solid; width: 0px; height: 1.361em;"></span></span></nobr><span class="MJX_Assistive_MathML" role="presentation"><math xmlns="http://www.w3.org/1998/Math/MathML"><msubsup><mi>R</mi><mrow class="MJX-TeXAtom-ORD"><mi>x</mi><mi>x</mi></mrow><mrow class="MJX-TeXAtom-ORD"><mo>−</mo><mn>1</mn></mrow></msubsup></math></span></span><script type="math/tex" id="MathJax-Element-9"> R_{xx}^{-1} </script> is the inverse of the correlation matrix and which contains correlation between independent variables x and y,</p>

<span class="MathJax_Preview" style="color: inherit; display: none;"></span><div class="MathJax_Display" style="text-align: center;"><span class="MathJax" id="MathJax-Element-10-Frame" tabindex="0" data-mathml="&lt;math xmlns=&quot;http://www.w3.org/1998/Math/MathML&quot; display=&quot;block&quot;&gt;&lt;msub&gt;&lt;mi&gt;R&lt;/mi&gt;&lt;mrow class=&quot;MJX-TeXAtom-ORD&quot;&gt;&lt;mi&gt;x&lt;/mi&gt;&lt;mi&gt;x&lt;/mi&gt;&lt;/mrow&gt;&lt;/msub&gt;&lt;mo&gt;=&lt;/mo&gt;&lt;mrow&gt;&lt;mo&gt;[&lt;/mo&gt;&lt;mtable rowspacing=&quot;4pt&quot; columnspacing=&quot;1em&quot;&gt;&lt;mtr&gt;&lt;mtd&gt;&lt;mn&gt;1&lt;/mn&gt;&lt;/mtd&gt;&lt;mtd&gt;&lt;msub&gt;&lt;mi&gt;r&lt;/mi&gt;&lt;mrow class=&quot;MJX-TeXAtom-ORD&quot;&gt;&lt;mi&gt;x&lt;/mi&gt;&lt;mi&gt;y&lt;/mi&gt;&lt;/mrow&gt;&lt;/msub&gt;&lt;/mtd&gt;&lt;/mtr&gt;&lt;mtr&gt;&lt;mtd&gt;&lt;msub&gt;&lt;mi&gt;r&lt;/mi&gt;&lt;mrow class=&quot;MJX-TeXAtom-ORD&quot;&gt;&lt;mi&gt;x&lt;/mi&gt;&lt;mi&gt;y&lt;/mi&gt;&lt;/mrow&gt;&lt;/msub&gt;&lt;/mtd&gt;&lt;mtd&gt;&lt;mn&gt;1&lt;/mn&gt;&lt;/mtd&gt;&lt;/mtr&gt;&lt;/mtable&gt;&lt;mo&gt;]&lt;/mo&gt;&lt;/mrow&gt;&lt;/math&gt;" role="presentation" style="text-align: center; position: relative;"><nobr aria-hidden="true"><span class="math" id="MathJax-Span-284" style="width: 9.82em; display: inline-block;"><span style="display: inline-block; position: relative; width: 7.891em; height: 0px; font-size: 124%;"><span style="position: absolute; clip: rect(1.712em, 1007.63em, 4.56em, -999.998em); top: -3.373em; left: 0em;"><span class="mrow" id="MathJax-Span-285"><span class="msubsup" id="MathJax-Span-286"><span style="display: inline-block; position: relative; width: 1.624em; height: 0px;"><span style="position: absolute; clip: rect(3.158em, 1000.75em, 4.122em, -999.998em); top: -3.986em; left: 0em;"><span class="mi" id="MathJax-Span-287" style="font-family: MathJax_Math-italic;">R</span><span style="display: inline-block; width: 0px; height: 3.991em;"></span></span><span style="position: absolute; top: -3.855em; left: 0.747em;"><span class="texatom" id="MathJax-Span-288"><span class="mrow" id="MathJax-Span-289"><span class="mi" id="MathJax-Span-290" style="font-size: 70.7%; font-family: MathJax_Math-italic;">x</span><span class="mi" id="MathJax-Span-291" style="font-size: 70.7%; font-family: MathJax_Math-italic;">x</span></span></span><span style="display: inline-block; width: 0px; height: 3.991em;"></span></span></span></span><span class="mo" id="MathJax-Span-292" style="font-family: MathJax_Main; padding-left: 0.265em;">=</span><span class="mrow" id="MathJax-Span-293" style="padding-left: 0.265em;"><span class="mo" id="MathJax-Span-294" style="vertical-align: 0em;"><span style="font-family: MathJax_Size3;">[</span></span><span class="mtable" id="MathJax-Span-295" style="padding-right: 0.178em; padding-left: 0.178em;"><span style="display: inline-block; position: relative; width: 3.552em; height: 0px;"><span style="position: absolute; clip: rect(2.457em, 1001.27em, 5.174em, -999.998em); top: -3.986em; left: 0em;"><span style="display: inline-block; position: relative; width: 1.273em; height: 0px;"><span style="position: absolute; clip: rect(3.202em, 1000.44em, 4.122em, -999.998em); top: -4.731em; left: 50%; margin-left: -0.261em;"><span class="mtd" id="MathJax-Span-296"><span class="mrow" id="MathJax-Span-297"><span class="mn" id="MathJax-Span-298" style="font-family: MathJax_Main;">1</span></span></span><span style="display: inline-block; width: 0px; height: 3.991em;"></span></span><span style="position: absolute; clip: rect(3.421em, 1001.27em, 4.429em, -999.998em); top: -3.241em; left: 50%; margin-left: -0.655em;"><span class="mtd" id="MathJax-Span-307"><span class="mrow" id="MathJax-Span-308"><span class="msubsup" id="MathJax-Span-309"><span style="display: inline-block; position: relative; width: 1.273em; height: 0px;"><span style="position: absolute; clip: rect(3.421em, 1000.44em, 4.122em, -999.998em); top: -3.986em; left: 0em;"><span class="mi" id="MathJax-Span-310" style="font-family: MathJax_Math-italic;">r</span><span style="display: inline-block; width: 0px; height: 3.991em;"></span></span><span style="position: absolute; top: -3.855em; left: 0.44em;"><span class="texatom" id="MathJax-Span-311"><span class="mrow" id="MathJax-Span-312"><span class="mi" id="MathJax-Span-313" style="font-size: 70.7%; font-family: MathJax_Math-italic;">x</span><span class="mi" id="MathJax-Span-314" style="font-size: 70.7%; font-family: MathJax_Math-italic;">y<span style="display: inline-block; overflow: hidden; height: 1px; width: 0.002em;"></span></span></span></span><span style="display: inline-block; width: 0px; height: 3.991em;"></span></span></span></span></span></span><span style="display: inline-block; width: 0px; height: 3.991em;"></span></span></span><span style="display: inline-block; width: 0px; height: 3.991em;"></span></span><span style="position: absolute; clip: rect(2.676em, 1001.27em, 4.867em, -999.998em); top: -3.986em; left: 2.281em;"><span style="display: inline-block; position: relative; width: 1.273em; height: 0px;"><span style="position: absolute; clip: rect(3.421em, 1001.27em, 4.429em, -999.998em); top: -4.731em; left: 50%; margin-left: -0.655em;"><span class="mtd" id="MathJax-Span-299"><span class="mrow" id="MathJax-Span-300"><span class="msubsup" id="MathJax-Span-301"><span style="display: inline-block; position: relative; width: 1.273em; height: 0px;"><span style="position: absolute; clip: rect(3.421em, 1000.44em, 4.122em, -999.998em); top: -3.986em; left: 0em;"><span class="mi" id="MathJax-Span-302" style="font-family: MathJax_Math-italic;">r</span><span style="display: inline-block; width: 0px; height: 3.991em;"></span></span><span style="position: absolute; top: -3.855em; left: 0.44em;"><span class="texatom" id="MathJax-Span-303"><span class="mrow" id="MathJax-Span-304"><span class="mi" id="MathJax-Span-305" style="font-size: 70.7%; font-family: MathJax_Math-italic;">x</span><span class="mi" id="MathJax-Span-306" style="font-size: 70.7%; font-family: MathJax_Math-italic;">y<span style="display: inline-block; overflow: hidden; height: 1px; width: 0.002em;"></span></span></span></span><span style="display: inline-block; width: 0px; height: 3.991em;"></span></span></span></span></span></span><span style="display: inline-block; width: 0px; height: 3.991em;"></span></span><span style="position: absolute; clip: rect(3.202em, 1000.44em, 4.122em, -999.998em); top: -3.241em; left: 50%; margin-left: -0.261em;"><span class="mtd" id="MathJax-Span-315"><span class="mrow" id="MathJax-Span-316"><span class="mn" id="MathJax-Span-317" style="font-family: MathJax_Main;">1</span></span></span><span style="display: inline-block; width: 0px; height: 3.991em;"></span></span></span><span style="display: inline-block; width: 0px; height: 3.991em;"></span></span></span></span><span class="mo" id="MathJax-Span-318" style="vertical-align: 0em;"><span style="font-family: MathJax_Size3;">]</span></span></span></span><span style="display: inline-block; width: 0px; height: 3.377em;"></span></span></span><span style="display: inline-block; overflow: hidden; vertical-align: -1.356em; border-left: 0px solid; width: 0px; height: 3.318em;"></span></span></nobr><span class="MJX_Assistive_MathML MJX_Assistive_MathML_Block" role="presentation"><math xmlns="http://www.w3.org/1998/Math/MathML" display="block"><msub><mi>R</mi><mrow class="MJX-TeXAtom-ORD"><mi>x</mi><mi>x</mi></mrow></msub><mo>=</mo><mrow><mo>[</mo><mtable rowspacing="4pt" columnspacing="1em"><mtr><mtd><mn>1</mn></mtd><mtd><msub><mi>r</mi><mrow class="MJX-TeXAtom-ORD"><mi>x</mi><mi>y</mi></mrow></msub></mtd></mtr><mtr><mtd><msub><mi>r</mi><mrow class="MJX-TeXAtom-ORD"><mi>x</mi><mi>y</mi></mrow></msub></mtd><mtd><mn>1</mn></mtd></mtr></mtable><mo>]</mo></mrow></math></span></span></div><script type="math/tex; mode=display" id="MathJax-Element-10">% <![CDATA[
R_{xx} = \begin{bmatrix} 1 & r_{xy} \\ r_{xy} & 1 \end{bmatrix} %]]></script>

<div class="language-python highlighter-rouge hljs"><pre class="codehilite"><code><span class="n">correlations</span> <span class="o">=</span> <span class="n">np</span><span class="o">.</span><span class="n">corrcoef</span><span class="p">(</span><span class="n">np</span><span class="o">.</span><span class="n">hstack</span><span class="p">((</span><span class="n">x</span><span class="p">,</span><span class="n">y</span><span class="p">,</span><span class="n">z</span><span class="p">)),</span><span class="n">rowvar</span><span class="o">=</span><span class="bp"><span class="hljs-keyword">False</span></span><span class="p">)</span>
<span class="n">c</span> <span class="o">=</span> <span class="n">correlations</span><span class="p">[:</span><span class="mi"><span class="hljs-number">2</span></span><span class="p">,</span><span class="mi"><span class="hljs-number">2</span></span><span class="p">:</span><span class="mi"><span class="hljs-number">3</span></span><span class="p">:]</span>
<span class="n">Rxx</span> <span class="o">=</span> <span class="n">correlations</span><span class="p">[:</span><span class="mi"><span class="hljs-number">2</span></span><span class="p">,:</span><span class="mi"><span class="hljs-number">2</span></span><span class="p">]</span> 
<span class="n">R2</span> <span class="o">=</span> <span class="n">c</span><span class="o">.</span><span class="n">T</span> <span class="err">@</span> <span class="n">np</span><span class="o">.</span><span class="n">linalg</span><span class="o">.</span><span class="n">inv</span><span class="p">(</span><span class="n">Rxx</span><span class="p">)</span> <span class="err">@</span> <span class="n">c</span>
<span class="k">print</span><span class="p">(</span><span class="s"><span class="hljs-string">'R2 w/o noise'</span></span><span class="p">,</span> <span class="n">R2</span><span class="p">[</span><span class="mi"><span class="hljs-number">0</span></span><span class="p">,</span><span class="mi"><span class="hljs-number">0</span></span><span class="p">])</span>
</code></pre></div>

<div class="highlighter-rouge"><pre class="codehilite"><code>R2 w/o noise 1.0000000000000002
</code></pre></div>

<p>Our dataset without noise gets a correlation of approximately 1. It means that the dependent variable z can be well predicted by the independent variables x and y using a linear function (which is quite obvious since the dependency is in fact linear).</p>

<div class="language-python highlighter-rouge hljs"><pre class="codehilite"><code><span class="n">correlations</span> <span class="o">=</span> <span class="n">np</span><span class="o">.</span><span class="n">corrcoef</span><span class="p">(</span><span class="n">np</span><span class="o">.</span><span class="n">hstack</span><span class="p">((</span><span class="n">x</span><span class="p">,</span><span class="n">y</span><span class="p">,</span><span class="n">z_noise</span><span class="p">)),</span><span class="n">rowvar</span><span class="o">=</span><span class="bp"><span class="hljs-keyword">False</span></span><span class="p">)</span>
<span class="n">c</span> <span class="o">=</span> <span class="n">correlations</span><span class="p">[:</span><span class="mi"><span class="hljs-number">2</span></span><span class="p">,</span><span class="mi"><span class="hljs-number">2</span></span><span class="p">:</span><span class="mi"><span class="hljs-number">3</span></span><span class="p">:]</span>
<span class="n">Rxx</span> <span class="o">=</span> <span class="n">correlations</span><span class="p">[:</span><span class="mi"><span class="hljs-number">2</span></span><span class="p">,:</span><span class="mi"><span class="hljs-number">2</span></span><span class="p">]</span> 
<span class="n">R2</span> <span class="o">=</span> <span class="n">c</span><span class="o">.</span><span class="n">T</span> <span class="err">@</span> <span class="n">np</span><span class="o">.</span><span class="n">linalg</span><span class="o">.</span><span class="n">inv</span><span class="p">(</span><span class="n">Rxx</span><span class="p">)</span> <span class="err">@</span> <span class="n">c</span>
<span class="k">print</span><span class="p">(</span><span class="s"><span class="hljs-string">'R2 w noise'</span></span><span class="p">,</span><span class="n">R2</span><span class="p">[</span><span class="mi"><span class="hljs-number">0</span></span><span class="p">,</span><span class="mi"><span class="hljs-number">0</span></span><span class="p">])</span>
</code></pre></div>

<div class="highlighter-rouge"><pre class="codehilite"><code>R2 w noise 0.819882735182887
</code></pre></div>

<p>Dataset with noise results a correlation of 0.82 which is still quite close to 1. The lower correlation implies that the plane is not fitting the data points very well, but not perfectly.</p>

<h2 id="part-2-multiple-regression-for-estimating-a-non-linear-surface">Part 2: Multiple Regression for estimating a non-linear surface</h2>

<p>In this example the target variable <span class="MathJax_Preview" style="color: inherit; display: none;"></span><span class="MathJax" id="MathJax-Element-11-Frame" tabindex="0" data-mathml="&lt;math xmlns=&quot;http://www.w3.org/1998/Math/MathML&quot;&gt;&lt;mi&gt;z&lt;/mi&gt;&lt;/math&gt;" role="presentation" style="position: relative;"><nobr aria-hidden="true"><span class="math" id="MathJax-Span-319" style="width: 0.572em; display: inline-block;"><span style="display: inline-block; position: relative; width: 0.44em; height: 0px; font-size: 124%;"><span style="position: absolute; clip: rect(1.755em, 1000.44em, 2.457em, -999.998em); top: -2.321em; left: 0em;"><span class="mrow" id="MathJax-Span-320"><span class="mi" id="MathJax-Span-321" style="font-family: MathJax_Math-italic;">z<span style="display: inline-block; overflow: hidden; height: 1px; width: 0.002em;"></span></span></span><span style="display: inline-block; width: 0px; height: 2.325em;"></span></span></span><span style="display: inline-block; overflow: hidden; vertical-align: -0.052em; border-left: 0px solid; width: 0px; height: 0.655em;"></span></span></nobr><span class="MJX_Assistive_MathML" role="presentation"><math xmlns="http://www.w3.org/1998/Math/MathML"><mi>z</mi></math></span></span><script type="math/tex" id="MathJax-Element-11">z</script> depends on two independent input variables <span class="MathJax_Preview" style="color: inherit; display: none;"></span><span class="MathJax" id="MathJax-Element-12-Frame" tabindex="0" data-mathml="&lt;math xmlns=&quot;http://www.w3.org/1998/Math/MathML&quot;&gt;&lt;mi&gt;x&lt;/mi&gt;&lt;/math&gt;" role="presentation" style="position: relative;"><nobr aria-hidden="true"><span class="math" id="MathJax-Span-322" style="width: 0.703em; display: inline-block;"><span style="display: inline-block; position: relative; width: 0.572em; height: 0px; font-size: 124%;"><span style="position: absolute; clip: rect(1.755em, 1000.53em, 2.457em, -999.998em); top: -2.321em; left: 0em;"><span class="mrow" id="MathJax-Span-323"><span class="mi" id="MathJax-Span-324" style="font-family: MathJax_Math-italic;">x</span></span><span style="display: inline-block; width: 0px; height: 2.325em;"></span></span></span><span style="display: inline-block; overflow: hidden; vertical-align: -0.052em; border-left: 0px solid; width: 0px; height: 0.655em;"></span></span></nobr><span class="MJX_Assistive_MathML" role="presentation"><math xmlns="http://www.w3.org/1998/Math/MathML"><mi>x</mi></math></span></span><script type="math/tex" id="MathJax-Element-12">x</script> and <span class="MathJax_Preview" style="color: inherit; display: none;"></span><span class="MathJax" id="MathJax-Element-13-Frame" tabindex="0" data-mathml="&lt;math xmlns=&quot;http://www.w3.org/1998/Math/MathML&quot;&gt;&lt;mi&gt;y&lt;/mi&gt;&lt;/math&gt;" role="presentation" style="position: relative;"><nobr aria-hidden="true"><span class="math" id="MathJax-Span-325" style="width: 0.616em; display: inline-block;"><span style="display: inline-block; position: relative; width: 0.484em; height: 0px; font-size: 124%;"><span style="position: absolute; clip: rect(1.755em, 1000.48em, 2.676em, -999.998em); top: -2.321em; left: 0em;"><span class="mrow" id="MathJax-Span-326"><span class="mi" id="MathJax-Span-327" style="font-family: MathJax_Math-italic;">y<span style="display: inline-block; overflow: hidden; height: 1px; width: 0.002em;"></span></span></span><span style="display: inline-block; width: 0px; height: 2.325em;"></span></span></span><span style="display: inline-block; overflow: hidden; vertical-align: -0.323em; border-left: 0px solid; width: 0px; height: 0.927em;"></span></span></nobr><span class="MJX_Assistive_MathML" role="presentation"><math xmlns="http://www.w3.org/1998/Math/MathML"><mi>y</mi></math></span></span><script type="math/tex" id="MathJax-Element-13">y</script> in a non-linear sense.</p>

<span class="MathJax_Preview" style="color: inherit; display: none;"></span><div class="MathJax_Display" style="text-align: center;"><span class="MathJax" id="MathJax-Element-14-Frame" tabindex="0" data-mathml="&lt;math xmlns=&quot;http://www.w3.org/1998/Math/MathML&quot; display=&quot;block&quot;&gt;&lt;mi&gt;z&lt;/mi&gt;&lt;mo&gt;=&lt;/mo&gt;&lt;msub&gt;&lt;mi&gt;b&lt;/mi&gt;&lt;mn&gt;0&lt;/mn&gt;&lt;/msub&gt;&lt;mo&gt;+&lt;/mo&gt;&lt;msub&gt;&lt;mi&gt;b&lt;/mi&gt;&lt;mn&gt;1&lt;/mn&gt;&lt;/msub&gt;&lt;mo&gt;&amp;#x22C5;&lt;/mo&gt;&lt;msup&gt;&lt;mi&gt;x&lt;/mi&gt;&lt;mn&gt;2&lt;/mn&gt;&lt;/msup&gt;&lt;mo&gt;+&lt;/mo&gt;&lt;msub&gt;&lt;mi&gt;b&lt;/mi&gt;&lt;mn&gt;2&lt;/mn&gt;&lt;/msub&gt;&lt;mo&gt;&amp;#x22C5;&lt;/mo&gt;&lt;mi&gt;x&lt;/mi&gt;&lt;mo&gt;&amp;#x22C5;&lt;/mo&gt;&lt;mi&gt;y&lt;/mi&gt;&lt;/math&gt;" role="presentation" style="text-align: center; position: relative;"><nobr aria-hidden="true"><span class="math" id="MathJax-Span-328" style="width: 13.764em; display: inline-block;"><span style="display: inline-block; position: relative; width: 11.091em; height: 0px; font-size: 124%;"><span style="position: absolute; clip: rect(1.317em, 1011.09em, 2.676em, -999.998em); top: -2.321em; left: 0em;"><span class="mrow" id="MathJax-Span-329"><span class="mi" id="MathJax-Span-330" style="font-family: MathJax_Math-italic;">z<span style="display: inline-block; overflow: hidden; height: 1px; width: 0.002em;"></span></span><span class="mo" id="MathJax-Span-331" style="font-family: MathJax_Main; padding-left: 0.265em;">=</span><span class="msubsup" id="MathJax-Span-332" style="padding-left: 0.265em;"><span style="display: inline-block; position: relative; width: 0.879em; height: 0px;"><span style="position: absolute; clip: rect(3.158em, 1000.44em, 4.122em, -999.998em); top: -3.986em; left: 0em;"><span class="mi" id="MathJax-Span-333" style="font-family: MathJax_Math-italic;">b</span><span style="display: inline-block; width: 0px; height: 3.991em;"></span></span><span style="position: absolute; top: -3.855em; left: 0.44em;"><span class="mn" id="MathJax-Span-334" style="font-size: 70.7%; font-family: MathJax_Main;">0</span><span style="display: inline-block; width: 0px; height: 3.991em;"></span></span></span></span><span class="mo" id="MathJax-Span-335" style="font-family: MathJax_Main; padding-left: 0.221em;">+</span><span class="msubsup" id="MathJax-Span-336" style="padding-left: 0.221em;"><span style="display: inline-block; position: relative; width: 0.879em; height: 0px;"><span style="position: absolute; clip: rect(3.158em, 1000.44em, 4.122em, -999.998em); top: -3.986em; left: 0em;"><span class="mi" id="MathJax-Span-337" style="font-family: MathJax_Math-italic;">b</span><span style="display: inline-block; width: 0px; height: 3.991em;"></span></span><span style="position: absolute; top: -3.855em; left: 0.44em;"><span class="mn" id="MathJax-Span-338" style="font-size: 70.7%; font-family: MathJax_Main;">1</span><span style="display: inline-block; width: 0px; height: 3.991em;"></span></span></span></span><span class="mo" id="MathJax-Span-339" style="font-family: MathJax_Main; padding-left: 0.221em;">⋅</span><span class="msubsup" id="MathJax-Span-340" style="padding-left: 0.221em;"><span style="display: inline-block; position: relative; width: 1.01em; height: 0px;"><span style="position: absolute; clip: rect(3.421em, 1000.53em, 4.122em, -999.998em); top: -3.986em; left: 0em;"><span class="mi" id="MathJax-Span-341" style="font-family: MathJax_Math-italic;">x</span><span style="display: inline-block; width: 0px; height: 3.991em;"></span></span><span style="position: absolute; top: -4.381em; left: 0.572em;"><span class="mn" id="MathJax-Span-342" style="font-size: 70.7%; font-family: MathJax_Main;">2</span><span style="display: inline-block; width: 0px; height: 3.991em;"></span></span></span></span><span class="mo" id="MathJax-Span-343" style="font-family: MathJax_Main; padding-left: 0.221em;">+</span><span class="msubsup" id="MathJax-Span-344" style="padding-left: 0.221em;"><span style="display: inline-block; position: relative; width: 0.879em; height: 0px;"><span style="position: absolute; clip: rect(3.158em, 1000.44em, 4.122em, -999.998em); top: -3.986em; left: 0em;"><span class="mi" id="MathJax-Span-345" style="font-family: MathJax_Math-italic;">b</span><span style="display: inline-block; width: 0px; height: 3.991em;"></span></span><span style="position: absolute; top: -3.855em; left: 0.44em;"><span class="mn" id="MathJax-Span-346" style="font-size: 70.7%; font-family: MathJax_Main;">2</span><span style="display: inline-block; width: 0px; height: 3.991em;"></span></span></span></span><span class="mo" id="MathJax-Span-347" style="font-family: MathJax_Main; padding-left: 0.221em;">⋅</span><span class="mi" id="MathJax-Span-348" style="font-family: MathJax_Math-italic; padding-left: 0.221em;">x</span><span class="mo" id="MathJax-Span-349" style="font-family: MathJax_Main; padding-left: 0.221em;">⋅</span><span class="mi" id="MathJax-Span-350" style="font-family: MathJax_Math-italic; padding-left: 0.221em;">y<span style="display: inline-block; overflow: hidden; height: 1px; width: 0.002em;"></span></span></span><span style="display: inline-block; width: 0px; height: 2.325em;"></span></span></span><span style="display: inline-block; overflow: hidden; vertical-align: -0.323em; border-left: 0px solid; width: 0px; height: 1.47em;"></span></span></nobr><span class="MJX_Assistive_MathML MJX_Assistive_MathML_Block" role="presentation"><math xmlns="http://www.w3.org/1998/Math/MathML" display="block"><mi>z</mi><mo>=</mo><msub><mi>b</mi><mn>0</mn></msub><mo>+</mo><msub><mi>b</mi><mn>1</mn></msub><mo>⋅</mo><msup><mi>x</mi><mn>2</mn></msup><mo>+</mo><msub><mi>b</mi><mn>2</mn></msub><mo>⋅</mo><mi>x</mi><mo>⋅</mo><mi>y</mi></math></span></span></div><script type="math/tex; mode=display" id="MathJax-Element-14">z=b_0+b_1\cdot x^2+b_2\cdot x\cdot y</script>

<p>Our goal is again to find the coefficients that minimize the squared errors between observations and predictions. The underlying function is implemented next:</p>

<div class="language-python highlighter-rouge hljs"><pre class="codehilite"><code><span class="k"><span class="hljs-function"><span class="hljs-keyword">def</span></span></span><span class="hljs-function"> </span><span class="nf"><span class="hljs-function"><span class="hljs-title">f</span></span></span><span class="p"><span class="hljs-function"><span class="hljs-params">(</span></span></span><span class="n"><span class="hljs-function"><span class="hljs-params">data</span></span></span><span class="p"><span class="hljs-function"><span class="hljs-params">,</span></span></span><span class="hljs-function"><span class="hljs-params"> </span></span><span class="n"><span class="hljs-function"><span class="hljs-params">b0</span></span></span><span class="p"><span class="hljs-function"><span class="hljs-params">,</span></span></span><span class="hljs-function"><span class="hljs-params"> </span></span><span class="n"><span class="hljs-function"><span class="hljs-params">b1</span></span></span><span class="p"><span class="hljs-function"><span class="hljs-params">,</span></span></span><span class="hljs-function"><span class="hljs-params"> </span></span><span class="n"><span class="hljs-function"><span class="hljs-params">b2</span></span></span><span class="p"><span class="hljs-function"><span class="hljs-params">)</span>:</span></span>  
    <span class="n">x</span> <span class="o">=</span> <span class="n">data</span><span class="p">[:,</span><span class="mi"><span class="hljs-number">0</span></span><span class="p">]</span>
    <span class="n">y</span> <span class="o">=</span> <span class="n">data</span><span class="p">[:,</span><span class="mi"><span class="hljs-number">1</span></span><span class="p">]</span>
    <span class="k"><span class="hljs-keyword">return</span></span> <span class="n">b0</span> <span class="o">+</span> <span class="n">b1</span><span class="o">*</span><span class="n">x</span><span class="o">**</span><span class="mi"><span class="hljs-number">2</span></span> <span class="o">+</span> <span class="n">b2</span><span class="o">*</span><span class="n">x</span><span class="o">*</span><span class="n">y</span>
</code></pre></div>

<h3 id="creating-a-toy-dataset-1">Creating a Toy Dataset</h3>
<p>In the next step we will generate a dataset with known coefficients and add some white noise to it.</p>

<div class="language-python highlighter-rouge hljs"><pre class="codehilite"><code><span class="n">np</span><span class="o">.</span><span class="n">random</span><span class="o">.</span><span class="n">seed</span><span class="p">(</span><span class="mi"><span class="hljs-number">0</span></span><span class="p">)</span>                   <span class="c"><span class="hljs-comment"># set fixed random seed</span></span>

<span class="n">beta</span> <span class="o">=</span>  <span class="mf"><span class="hljs-number">1.834</span></span><span class="p">,</span> <span class="mf"><span class="hljs-number">0.256</span></span><span class="p">,</span> <span class="mf"><span class="hljs-number">0.345</span></span>         <span class="c"><span class="hljs-comment"># ground truth coefficient vector</span></span>
<span class="n">b0</span><span class="p">,</span> <span class="n">b1</span><span class="p">,</span> <span class="n">b2</span> <span class="o">=</span> <span class="n">beta</span>

<span class="n">x</span> <span class="o">=</span> <span class="n">np</span><span class="o">.</span><span class="n">random</span><span class="o">.</span><span class="n">random</span><span class="p">((</span><span class="mi"><span class="hljs-number">50</span></span><span class="p">,</span> <span class="mi"><span class="hljs-number">1</span></span><span class="p">))</span><span class="o">*</span><span class="mi"><span class="hljs-number">10</span></span>
<span class="n">y</span> <span class="o">=</span> <span class="n">np</span><span class="o">.</span><span class="n">random</span><span class="o">.</span><span class="n">random</span><span class="p">((</span><span class="mi"><span class="hljs-number">50</span></span><span class="p">,</span> <span class="mi"><span class="hljs-number">1</span></span><span class="p">))</span><span class="o">*</span><span class="mi"><span class="hljs-number">10</span></span>
<span class="n">data</span> <span class="o">=</span> <span class="n">np</span><span class="o">.</span><span class="n">hstack</span><span class="p">((</span><span class="n">x</span><span class="p">,</span> <span class="n">y</span><span class="p">))</span>            

<span class="n">z</span> <span class="o">=</span> <span class="n">f</span><span class="p">(</span><span class="n">data</span><span class="p">,</span> <span class="o">*</span><span class="n">beta</span><span class="p">)</span>                  <span class="c"><span class="hljs-comment"># output variables..</span></span>
<span class="n">z</span> <span class="o">=</span> <span class="n">z</span> <span class="o">+</span> <span class="n">np</span><span class="o">.</span><span class="n">random</span><span class="o">.</span><span class="n">randn</span><span class="p">(</span><span class="mi"><span class="hljs-number">50</span></span><span class="p">)</span><span class="o">*</span><span class="mi"><span class="hljs-number">5</span></span>       <span class="c"><span class="hljs-comment"># .. with added noise</span></span>
</code></pre></div>

<h3 id="estimation-of-regression-coefficients-1">Estimation of regression coefficients</h3>

<p>This time we use the scipy function <code class="highlighter-rouge">curve_fit</code> for the least squares optimization. The function return the optimal parameters as well as a covariance matrix of the estimated parameters.</p>

<div class="language-python highlighter-rouge hljs"><pre class="codehilite"><code><span class="n">beta_reg</span><span class="p">,</span> <span class="n">covar</span> <span class="o">=</span> <span class="n">curve_fit</span><span class="p">(</span><span class="n">f</span><span class="p">,</span> <span class="n">data</span><span class="p">,</span> <span class="n">z</span><span class="p">)</span>  

<span class="k">print</span><span class="p">(</span><span class="s"><span class="hljs-string">'Coefficients:'</span></span><span class="p">)</span>
<span class="k">print</span><span class="p">(</span><span class="s"><span class="hljs-string">'True:        '</span></span><span class="p">,</span> <span class="n">beta</span><span class="p">)</span>
<span class="k">print</span><span class="p">(</span><span class="s"><span class="hljs-string">'Estimated:   '</span></span><span class="p">,</span> <span class="n">beta_reg</span><span class="p">)</span>
<span class="k">print</span><span class="p">(</span><span class="s"><span class="hljs-string">'Covariance:'</span></span><span class="p">)</span>
<span class="k">print</span><span class="p">(</span><span class="n">covar</span><span class="p">)</span>
</code></pre></div>

<div class="highlighter-rouge"><pre class="codehilite"><code>Coefficients:
True:         (1.834, 0.256, 0.345)
Estimated:    [4.00078368 0.24977405 0.35208127]
Covariance:
[[ 1.55615396e+00 -2.03205499e-02 -1.28086925e-02]
 [-2.03205499e-02  9.43694227e-04 -6.58669900e-04]
 [-1.28086925e-02 -6.58669900e-04  1.73090509e-03]]
</code></pre></div>

<p>Comparing the ground truth and the estimated regression coefficients</p>

<span class="MathJax_Preview" style="color: inherit; display: none;"></span><div class="MathJax_Display" style="text-align: center;"><span class="MathJax" id="MathJax-Element-15-Frame" tabindex="0" data-mathml="&lt;math xmlns=&quot;http://www.w3.org/1998/Math/MathML&quot; display=&quot;block&quot;&gt;&lt;mi&gt;&amp;#x03B2;&lt;/mi&gt;&lt;mo&gt;=&lt;/mo&gt;&lt;mrow&gt;&lt;mo&gt;[&lt;/mo&gt;&lt;mtable rowspacing=&quot;4pt&quot; columnspacing=&quot;1em&quot;&gt;&lt;mtr&gt;&lt;mtd&gt;&lt;mn&gt;1.834&lt;/mn&gt;&lt;/mtd&gt;&lt;/mtr&gt;&lt;mtr&gt;&lt;mtd&gt;&lt;mn&gt;0.256&lt;/mn&gt;&lt;/mtd&gt;&lt;/mtr&gt;&lt;mtr&gt;&lt;mtd&gt;&lt;mn&gt;0.345&lt;/mn&gt;&lt;/mtd&gt;&lt;/mtr&gt;&lt;/mtable&gt;&lt;mo&gt;]&lt;/mo&gt;&lt;/mrow&gt;&lt;mspace width=&quot;thickmathspace&quot; /&gt;&lt;mo&gt;,&lt;/mo&gt;&lt;mspace width=&quot;thickmathspace&quot; /&gt;&lt;msub&gt;&lt;mi&gt;&amp;#x03B2;&lt;/mi&gt;&lt;mrow class=&quot;MJX-TeXAtom-ORD&quot;&gt;&lt;mi&gt;r&lt;/mi&gt;&lt;mi&gt;e&lt;/mi&gt;&lt;mi&gt;g&lt;/mi&gt;&lt;/mrow&gt;&lt;/msub&gt;&lt;mo&gt;=&lt;/mo&gt;&lt;mrow&gt;&lt;mo&gt;[&lt;/mo&gt;&lt;mtable rowspacing=&quot;4pt&quot; columnspacing=&quot;1em&quot;&gt;&lt;mtr&gt;&lt;mtd&gt;&lt;mn&gt;4.001&lt;/mn&gt;&lt;/mtd&gt;&lt;/mtr&gt;&lt;mtr&gt;&lt;mtd&gt;&lt;mn&gt;0.250&lt;/mn&gt;&lt;/mtd&gt;&lt;/mtr&gt;&lt;mtr&gt;&lt;mtd&gt;&lt;mn&gt;0.363&lt;/mn&gt;&lt;/mtd&gt;&lt;/mtr&gt;&lt;/mtable&gt;&lt;mo&gt;]&lt;/mo&gt;&lt;/mrow&gt;&lt;/math&gt;" role="presentation" style="text-align: center; position: relative;"><nobr aria-hidden="true"><span class="math" id="MathJax-Span-351" style="width: 17.227em; display: inline-block;"><span style="display: inline-block; position: relative; width: 13.896em; height: 0px; font-size: 124%;"><span style="position: absolute; clip: rect(2.194em, 1013.59em, 6.27em, -999.998em); top: -4.468em; left: 0em;"><span class="mrow" id="MathJax-Span-352"><span class="mi" id="MathJax-Span-353" style="font-family: MathJax_Math-italic;">β<span style="display: inline-block; overflow: hidden; height: 1px; width: 0.002em;"></span></span><span class="mo" id="MathJax-Span-354" style="font-family: MathJax_Main; padding-left: 0.265em;">=</span><span class="mrow" id="MathJax-Span-355" style="padding-left: 0.265em;"><span class="mo" id="MathJax-Span-356" style="vertical-align: 2.15em;"><span style="display: inline-block; position: relative; width: 0.66em; height: 0px;"><span style="position: absolute; font-family: MathJax_Size4; top: -2.847em; left: 0em;">⎡<span style="display: inline-block; width: 0px; height: 3.991em;"></span></span><span style="position: absolute; font-family: MathJax_Size4; top: -0.831em; left: 0em;">⎣<span style="display: inline-block; width: 0px; height: 3.991em;"></span></span><span style="font-family: MathJax_Size4; position: absolute; top: -1.795em; left: 0em;">⎢<span style="display: inline-block; width: 0px; height: 3.991em;"></span></span></span></span><span class="mtable" id="MathJax-Span-357" style="padding-right: 0.178em; padding-left: 0.178em;"><span style="display: inline-block; position: relative; width: 2.281em; height: 0px;"><span style="position: absolute; clip: rect(2.369em, 1002.24em, 6.138em, -999.998em); top: -4.512em; left: 0em;"><span style="display: inline-block; position: relative; width: 2.281em; height: 0px;"><span style="position: absolute; clip: rect(3.202em, 1002.24em, 4.166em, -999.998em); top: -5.345em; left: 50%; margin-left: -1.137em;"><span class="mtd" id="MathJax-Span-358"><span class="mrow" id="MathJax-Span-359"><span class="mn" id="MathJax-Span-360" style="font-family: MathJax_Main;">1.834</span></span></span><span style="display: inline-block; width: 0px; height: 3.991em;"></span></span><span style="position: absolute; clip: rect(3.202em, 1002.24em, 4.166em, -999.998em); top: -3.942em; left: 50%; margin-left: -1.137em;"><span class="mtd" id="MathJax-Span-361"><span class="mrow" id="MathJax-Span-362"><span class="mn" id="MathJax-Span-363" style="font-family: MathJax_Main;">0.256</span></span></span><span style="display: inline-block; width: 0px; height: 3.991em;"></span></span><span style="position: absolute; clip: rect(3.202em, 1002.24em, 4.166em, -999.998em); top: -2.54em; left: 50%; margin-left: -1.137em;"><span class="mtd" id="MathJax-Span-364"><span class="mrow" id="MathJax-Span-365"><span class="mn" id="MathJax-Span-366" style="font-family: MathJax_Main;">0.345</span></span></span><span style="display: inline-block; width: 0px; height: 3.991em;"></span></span></span><span style="display: inline-block; width: 0px; height: 4.517em;"></span></span></span></span><span class="mo" id="MathJax-Span-367" style="vertical-align: 2.15em;"><span style="display: inline-block; position: relative; width: 0.66em; height: 0px;"><span style="position: absolute; font-family: MathJax_Size4; top: -2.847em; left: 0em;">⎤<span style="display: inline-block; width: 0px; height: 3.991em;"></span></span><span style="position: absolute; font-family: MathJax_Size4; top: -0.831em; left: 0em;">⎦<span style="display: inline-block; width: 0px; height: 3.991em;"></span></span><span style="font-family: MathJax_Size4; position: absolute; top: -1.795em; left: 0em;">⎥<span style="display: inline-block; width: 0px; height: 3.991em;"></span></span></span></span></span><span class="mspace" id="MathJax-Span-368" style="height: 0em; vertical-align: 0em; width: 0.265em; display: inline-block; overflow: hidden;"></span><span class="mo" id="MathJax-Span-369" style="font-family: MathJax_Main; padding-left: 0.178em;">,</span><span class="mspace" id="MathJax-Span-370" style="height: 0em; vertical-align: 0em; width: 0.265em; display: inline-block; overflow: hidden;"></span><span class="msubsup" id="MathJax-Span-371" style="padding-left: 0.178em;"><span style="display: inline-block; position: relative; width: 1.624em; height: 0px;"><span style="position: absolute; clip: rect(3.158em, 1000.57em, 4.297em, -999.998em); top: -3.986em; left: 0em;"><span class="mi" id="MathJax-Span-372" style="font-family: MathJax_Math-italic;">β<span style="display: inline-block; overflow: hidden; height: 1px; width: 0.002em;"></span></span><span style="display: inline-block; width: 0px; height: 3.991em;"></span></span><span style="position: absolute; top: -3.855em; left: 0.572em;"><span class="texatom" id="MathJax-Span-373"><span class="mrow" id="MathJax-Span-374"><span class="mi" id="MathJax-Span-375" style="font-size: 70.7%; font-family: MathJax_Math-italic;">r</span><span class="mi" id="MathJax-Span-376" style="font-size: 70.7%; font-family: MathJax_Math-italic;">e</span><span class="mi" id="MathJax-Span-377" style="font-size: 70.7%; font-family: MathJax_Math-italic;">g<span style="display: inline-block; overflow: hidden; height: 1px; width: 0.002em;"></span></span></span></span><span style="display: inline-block; width: 0px; height: 3.991em;"></span></span></span></span><span class="mo" id="MathJax-Span-378" style="font-family: MathJax_Main; padding-left: 0.265em;">=</span><span class="mrow" id="MathJax-Span-379" style="padding-left: 0.265em;"><span class="mo" id="MathJax-Span-380" style="vertical-align: 2.15em;"><span style="display: inline-block; position: relative; width: 0.66em; height: 0px;"><span style="position: absolute; font-family: MathJax_Size4; top: -2.847em; left: 0em;">⎡<span style="display: inline-block; width: 0px; height: 3.991em;"></span></span><span style="position: absolute; font-family: MathJax_Size4; top: -0.831em; left: 0em;">⎣<span style="display: inline-block; width: 0px; height: 3.991em;"></span></span><span style="font-family: MathJax_Size4; position: absolute; top: -1.795em; left: 0em;">⎢<span style="display: inline-block; width: 0px; height: 3.991em;"></span></span></span></span><span class="mtable" id="MathJax-Span-381" style="padding-right: 0.178em; padding-left: 0.178em;"><span style="display: inline-block; position: relative; width: 2.281em; height: 0px;"><span style="position: absolute; clip: rect(2.369em, 1002.24em, 6.138em, -999.998em); top: -4.512em; left: 0em;"><span style="display: inline-block; position: relative; width: 2.281em; height: 0px;"><span style="position: absolute; clip: rect(3.202em, 1002.19em, 4.166em, -999.998em); top: -5.345em; left: 50%; margin-left: -1.137em;"><span class="mtd" id="MathJax-Span-382"><span class="mrow" id="MathJax-Span-383"><span class="mn" id="MathJax-Span-384" style="font-family: MathJax_Main;">4.001</span></span></span><span style="display: inline-block; width: 0px; height: 3.991em;"></span></span><span style="position: absolute; clip: rect(3.202em, 1002.24em, 4.166em, -999.998em); top: -3.942em; left: 50%; margin-left: -1.137em;"><span class="mtd" id="MathJax-Span-385"><span class="mrow" id="MathJax-Span-386"><span class="mn" id="MathJax-Span-387" style="font-family: MathJax_Main;">0.250</span></span></span><span style="display: inline-block; width: 0px; height: 3.991em;"></span></span><span style="position: absolute; clip: rect(3.202em, 1002.24em, 4.166em, -999.998em); top: -2.54em; left: 50%; margin-left: -1.137em;"><span class="mtd" id="MathJax-Span-388"><span class="mrow" id="MathJax-Span-389"><span class="mn" id="MathJax-Span-390" style="font-family: MathJax_Main;">0.363</span></span></span><span style="display: inline-block; width: 0px; height: 3.991em;"></span></span></span><span style="display: inline-block; width: 0px; height: 4.517em;"></span></span></span></span><span class="mo" id="MathJax-Span-391" style="vertical-align: 2.15em;"><span style="display: inline-block; position: relative; width: 0.66em; height: 0px;"><span style="position: absolute; font-family: MathJax_Size4; top: -2.847em; left: 0em;">⎤<span style="display: inline-block; width: 0px; height: 3.991em;"></span></span><span style="position: absolute; font-family: MathJax_Size4; top: -0.831em; left: 0em;">⎦<span style="display: inline-block; width: 0px; height: 3.991em;"></span></span><span style="font-family: MathJax_Size4; position: absolute; top: -1.795em; left: 0em;">⎥<span style="display: inline-block; width: 0px; height: 3.991em;"></span></span></span></span></span></span><span style="display: inline-block; width: 0px; height: 4.473em;"></span></span></span><span style="display: inline-block; overflow: hidden; vertical-align: -2.117em; border-left: 0px solid; width: 0px; height: 4.84em;"></span></span></nobr><span class="MJX_Assistive_MathML MJX_Assistive_MathML_Block" role="presentation"><math xmlns="http://www.w3.org/1998/Math/MathML" display="block"><mi>β</mi><mo>=</mo><mrow><mo>[</mo><mtable rowspacing="4pt" columnspacing="1em"><mtr><mtd><mn>1.834</mn></mtd></mtr><mtr><mtd><mn>0.256</mn></mtd></mtr><mtr><mtd><mn>0.345</mn></mtd></mtr></mtable><mo>]</mo></mrow><mspace width="thickmathspace"></mspace><mo>,</mo><mspace width="thickmathspace"></mspace><msub><mi>β</mi><mrow class="MJX-TeXAtom-ORD"><mi>r</mi><mi>e</mi><mi>g</mi></mrow></msub><mo>=</mo><mrow><mo>[</mo><mtable rowspacing="4pt" columnspacing="1em"><mtr><mtd><mn>4.001</mn></mtd></mtr><mtr><mtd><mn>0.250</mn></mtd></mtr><mtr><mtd><mn>0.363</mn></mtd></mtr></mtable><mo>]</mo></mrow></math></span></span></div><script type="math/tex; mode=display" id="MathJax-Element-15">\beta = \begin{bmatrix} 1.834\\0.256\\0.345 \end{bmatrix}\;,\; \beta_{reg} = \begin{bmatrix} 4.001\\0.250\\0.363\end{bmatrix}</script>

<p>we see, that the estimated parameters match the true parameters quite well.</p>

<h3 id="visualization-1">Visualization</h3>
<p>For visualization, we can draw the real and estimated surfaces.</p>

<div class="language-python highlighter-rouge hljs"><pre class="codehilite"><code><span class="n">plt</span><span class="o">.</span><span class="n">figure</span><span class="p">()</span>
<span class="n">ax</span> <span class="o">=</span> <span class="n">plt</span><span class="o">.</span><span class="n">gca</span><span class="p">(</span><span class="n">projection</span><span class="o">=</span><span class="s"><span class="hljs-string">'3d'</span></span><span class="p">)</span>
<span class="n">ax</span><span class="o">.</span><span class="n">scatter</span><span class="p">(</span><span class="n">x</span><span class="p">,</span> <span class="n">y</span><span class="p">,</span> <span class="n">z</span><span class="p">,</span> <span class="n">color</span><span class="o">=</span><span class="s"><span class="hljs-string">'b'</span></span><span class="p">,</span><span class="n">label</span><span class="o">=</span><span class="s"><span class="hljs-string">'Data points'</span></span><span class="p">)</span>
<span class="n">draw_plane</span><span class="p">(</span><span class="n">ax</span><span class="p">,[</span><span class="mf"><span class="hljs-number">0.</span></span><span class="p">,</span><span class="mf"><span class="hljs-number">11.</span></span><span class="p">],</span> <span class="p">[</span><span class="mf"><span class="hljs-number">0.</span></span><span class="p">,</span><span class="mf"><span class="hljs-number">11.</span></span><span class="p">],</span> <span class="n">beta</span><span class="p">,</span> <span class="s"><span class="hljs-string">'k'</span></span><span class="p">,</span> <span class="s"><span class="hljs-string">'True surface'</span></span><span class="p">)</span>
<span class="n">draw_plane</span><span class="p">(</span><span class="n">ax</span><span class="p">,[</span><span class="mf"><span class="hljs-number">0.</span></span><span class="p">,</span><span class="mf"><span class="hljs-number">11.</span></span><span class="p">],</span> <span class="p">[</span><span class="mf"><span class="hljs-number">0.</span></span><span class="p">,</span><span class="mf"><span class="hljs-number">11.</span></span><span class="p">],</span> <span class="n">beta_reg</span><span class="p">,</span> <span class="s"><span class="hljs-string">'r'</span></span><span class="p">,</span> <span class="s"><span class="hljs-string">'Regressed surface'</span></span><span class="p">)</span>

<span class="n">ax</span><span class="o">.</span><span class="n">set_xlabel</span><span class="p">(</span><span class="s"><span class="hljs-string">'x'</span></span><span class="p">);</span> <span class="n">ax</span><span class="o">.</span><span class="n">set_ylabel</span><span class="p">(</span><span class="s"><span class="hljs-string">'y'</span></span><span class="p">);</span> <span class="n">ax</span><span class="o">.</span><span class="n">set_zlabel</span><span class="p">(</span><span class="s"><span class="hljs-string">'z'</span></span><span class="p">)</span>
<span class="n">ax</span><span class="o">.</span><span class="n">legend</span><span class="p">()</span>

<span class="n">plt</span><span class="o">.</span><span class="n">show</span><span class="p">()</span>
</code></pre></div>

<p><img src="./Interdisciplinary Center for Applied Machine Learning_files/output_28_0.png" alt="png"></p>

<p>And again using <code class="highlighter-rouge">ipvolume</code>.</p>

<div class="language-python highlighter-rouge hljs"><pre class="codehilite"><code><span class="n">ipv</span><span class="o">.</span><span class="n">figure</span><span class="p">()</span>
<span class="n">ipv</span><span class="o">.</span><span class="n">scatter</span><span class="p">(</span><span class="n">x</span><span class="o">.</span><span class="n">ravel</span><span class="p">(),</span> <span class="n">y</span><span class="o">.</span><span class="n">ravel</span><span class="p">(),</span> <span class="n">z</span><span class="o">.</span><span class="n">ravel</span><span class="p">(),</span> <span class="n">color</span><span class="o">=</span><span class="s"><span class="hljs-string">"blue"</span></span><span class="p">)</span>
<span class="n">draw_plane_ipv</span><span class="p">([</span><span class="mf"><span class="hljs-number">0.</span></span><span class="p">,</span><span class="mf"><span class="hljs-number">11.</span></span><span class="p">],</span> <span class="p">[</span><span class="mf"><span class="hljs-number">0.</span></span><span class="p">,</span><span class="mf"><span class="hljs-number">11.</span></span><span class="p">],</span> <span class="n">beta</span><span class="p">,</span> <span class="s"><span class="hljs-string">'black'</span></span><span class="p">)</span>
<span class="n">draw_plane_ipv</span><span class="p">([</span><span class="mf"><span class="hljs-number">0.</span></span><span class="p">,</span><span class="mf"><span class="hljs-number">11.</span></span><span class="p">],</span> <span class="p">[</span><span class="mf"><span class="hljs-number">0.</span></span><span class="p">,</span><span class="mf"><span class="hljs-number">11.</span></span><span class="p">],</span> <span class="n">beta_reg</span><span class="p">,</span> <span class="s"><span class="hljs-string">'red'</span></span><span class="p">)</span>
<span class="n">ipv</span><span class="o">.</span><span class="n">show</span><span class="p">()</span>
</code></pre></div>

<iframe width="100%" height="500" scrolling="no" src="./Interdisciplinary Center for Applied Machine Learning_files/ipv2.html" frameborder="0" allowfullscreen="true"> </iframe>

<hr>

<table>
  <tbody><tr>
    <td>Author:</td>
    <td>Buerlike Alai</td>
  </tr>
  <tr>
    <td>Last modified:</td>
    <td>24.09.2019</td>
  </tr>
</tbody></table>
<script type="text/x-mathjax-config;executed=true">
    MathJax.Hub.Config({
      jax: ["input/TeX", "output/HTML-CSS"],
      tex2jax: {
        inlineMath: [ ['$', '$'] ],
        displayMath: [ ['$$', '$$']],
        processEscapes: true,
        skipTags: ['script', 'noscript', 'style', 'textarea', 'pre', 'code']
      }
      //,
      //displayAlign: "left",
      //displayIndent: "2em"
    });
</script>

<script src="./Interdisciplinary Center for Applied Machine Learning_files/MathJax.js.download" id=""></script>


		</div><!-- .entry-content -->
	</article><!-- #post -->
		</div><!-- #content -->
	</div><!-- #primary -->
	




		</div><!-- #main .wrapper -->
 	<footer id="colophon" role="contentinfo">
		<div class="site-info">
		  (c) 2018 ICAML
		</div><!-- .site-info -->
	</footer><!-- #colophon -->
</div><!-- #page -->

<script type="text/javascript" src="./Interdisciplinary Center for Applied Machine Learning_files/navigation.js.download"></script>









<div style="position: absolute; width: 0px; height: 0px; overflow: hidden; padding: 0px; border: 0px; margin: 0px;"><div id="MathJax_Font_Test" style="position: absolute; visibility: hidden; top: 0px; left: 0px; width: auto; padding: 0px; border: 0px; margin: 0px; white-space: nowrap; text-align: left; text-indent: 0px; text-transform: none; line-height: normal; letter-spacing: normal; word-spacing: normal; font-size: 40px; font-weight: normal; font-style: normal; font-family: MathJax_Size3, sans-serif;"></div></div></body></html>
